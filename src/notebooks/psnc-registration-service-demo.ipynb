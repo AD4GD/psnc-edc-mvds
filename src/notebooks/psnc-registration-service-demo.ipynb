{
 "cells": [
  {
   "cell_type": "markdown",
   "metadata": {},
   "source": [
    "## Registration Service demo\n",
    "compatible with EDC v0.10.1"
   ]
  },
  {
   "cell_type": "code",
   "execution_count": null,
   "metadata": {},
   "outputs": [],
   "source": [
    "import requests\n",
    "import json\n",
    "\n",
    "from dataspace_apis import *"
   ]
  },
  {
   "cell_type": "markdown",
   "metadata": {},
   "source": [
    "### Demo setup"
   ]
  },
  {
   "cell_type": "code",
   "execution_count": null,
   "metadata": {},
   "outputs": [],
   "source": [
    "\n",
    "IS_LOCALHOST_DEPLOYMENT = True\n",
    "\n",
    "# for paas:\n",
    "PROVIDER_URL = \"https://provider-edc-connector.apps.paas-dev.psnc.pl\"\n",
    "CONSUMER_URL = \"https://consumer-edc-connector.apps.paas-dev.psnc.pl\"\n",
    "REGISTRATION_SERVICE_URL = \"https://registration-service-backend-edc-connector.apps.paas-dev.psnc.pl\"\n",
    "FEDERATED_CATALOG_BASE_URL = \"https://federatedcatalog-edc-connector.apps.paas-dev.psnc.pl\"\n",
    "CONSUMER_BACKEND_URL = \"https://consback-edc-connector.apps.paas-dev.psnc.pl\"\n",
    "\n",
    "## for local:\n",
    "LOCALHOST = \"http://localhost\"\n",
    "CONSUMER_CONTAINER = \"http://consumer-connector\"\n",
    "PROVIDER_CONTAINER = \"http://provider-connector\"\n",
    "REGISTRATION_SERVICE_CONTAINER = \"http://registration-service-backend\"\n",
    "FEDERATED_CATALOG_BASE_CONTAINER = \"http://federated-catalog\"\n",
    "CONSUMER_BACKEND_CONTAINER = \"http://consumer-backend\"\n",
    "\n",
    "if (IS_LOCALHOST_DEPLOYMENT):\n",
    "    CONSUMER_URL = LOCALHOST\n",
    "    PROVIDER_URL = LOCALHOST\n",
    "    REGISTRATION_SERVICE_URL = LOCALHOST\n",
    "    FEDERATED_CATALOG_BASE_URL = LOCALHOST"
   ]
  },
  {
   "cell_type": "code",
   "execution_count": null,
   "metadata": {},
   "outputs": [],
   "source": [
    "PROVIDER_API = f\"{PROVIDER_URL}/api\"\n",
    "PROVIDER_CONTROL = f\"{PROVIDER_URL}/control\"\n",
    "PROVIDER_MANAGEMENT = f\"{PROVIDER_URL}/management\"\n",
    "PROVIDER_PROTOCOL = f\"{PROVIDER_URL}/protocol\"\n",
    "PROVIDER_PUBLIC = f\"{PROVIDER_URL}/public\"\n",
    "\n",
    "CONSUMER_API = f\"{CONSUMER_URL}/api\"\n",
    "CONSUMER_CONTROL = f\"{CONSUMER_URL}/control\"\n",
    "CONSUMER_MANAGEMENT = f\"{CONSUMER_URL}/management\"\n",
    "CONSUMER_PROTOCOL = f\"{CONSUMER_URL}/protocol\"\n",
    "CONSUMER_PUBLIC = f\"{CONSUMER_URL}/public\"\n",
    "\n",
    "AUTHORITY_URL = f\"{REGISTRATION_SERVICE_URL}/authority\"\n",
    "PARTICIPANTS_ENDPOINT_URL = f\"{AUTHORITY_URL}/registry/participants\"\n",
    "\n",
    "CONSUMER_BACKEND_EDR = f\"{CONSUMER_BACKEND_URL}/edr-endpoint\"\n",
    "FEDERATED_CATALOG_URL = f\"{FEDERATED_CATALOG_BASE_URL}/catalog\"\n",
    "\n",
    "if (IS_LOCALHOST_DEPLOYMENT):\n",
    "    PROVIDER_API = f\"{PROVIDER_URL}:19191/api\"\n",
    "    PROVIDER_CONTROL = f\"{PROVIDER_URL}:19192/control\"\n",
    "    PROVIDER_MANAGEMENT = f\"{PROVIDER_URL}:19193/management\"\n",
    "    PROVIDER_PROTOCOL = f\"{PROVIDER_URL}:19194/protocol\"\n",
    "    PROVIDER_PUBLIC = f\"{PROVIDER_URL}:19291/public\"\n",
    "\n",
    "    CONSUMER_API = f\"{CONSUMER_URL}:29191/api\"\n",
    "    CONSUMER_CONTROL = f\"{CONSUMER_URL}:29192/control\"\n",
    "    CONSUMER_MANAGEMENT = f\"{CONSUMER_URL}:29193/management\"\n",
    "    CONSUMER_PROTOCOL = f\"{CONSUMER_URL}:29194/protocol\"\n",
    "    CONSUMER_PUBLIC = f\"{CONSUMER_URL}:29291/public\"\n",
    "\n",
    "    AUTHORITY_URL = f\"{REGISTRATION_SERVICE_URL}:38182/authority\"\n",
    "    PARTICIPANTS_ENDPOINT_URL = f\"{AUTHORITY_URL}/registry/participants\"\n",
    "\n",
    "    CONSUMER_BACKEND_EDR = f\"{CONSUMER_BACKEND_CONTAINER}:4000/edr-endpoint\"\n",
    "    FEDERATED_CATALOG_URL = f\"{FEDERATED_CATALOG_BASE_URL}:9181/catalog\""
   ]
  },
  {
   "cell_type": "code",
   "execution_count": null,
   "metadata": {},
   "outputs": [],
   "source": [
    "provider_control_internal = PROVIDER_CONTROL.replace(LOCALHOST, PROVIDER_CONTAINER)\n",
    "provider_public_internal = PROVIDER_PUBLIC.replace(LOCALHOST, PROVIDER_CONTAINER)\n",
    "provider_protocol_internal = f\"{PROVIDER_PROTOCOL}\".replace(LOCALHOST, PROVIDER_CONTAINER)\n",
    "\n",
    "default_headers = {\n",
    "    \"Content-Type\": \"application/json\",\n",
    "    \"x-api-key\": \"edc\",\n",
    "}\n",
    "\n",
    "# participant for tests (add/update/delete)\n",
    "did = \"consumer\"\n",
    "protocolUrl = CONSUMER_PROTOCOL"
   ]
  },
  {
   "cell_type": "markdown",
   "metadata": {},
   "source": [
    "## Registration Service main operations"
   ]
  },
  {
   "cell_type": "markdown",
   "metadata": {},
   "source": [
    "### Show dataspace participants"
   ]
  },
  {
   "cell_type": "code",
   "execution_count": null,
   "metadata": {},
   "outputs": [],
   "source": [
    "def show_participants():\n",
    "    return requests.get(PARTICIPANTS_ENDPOINT_URL, headers=default_headers).json()\n",
    "\n",
    "participants = show_participants()\n",
    "print(\"Stored participants in the Registration Service database:\")\n",
    "print(participants)"
   ]
  },
  {
   "cell_type": "markdown",
   "metadata": {},
   "source": [
    "### Add a new participant"
   ]
  },
  {
   "cell_type": "code",
   "execution_count": null,
   "metadata": {},
   "outputs": [],
   "source": [
    "def add_participant(did, protocolUrl):\n",
    "    requests.post(f\"{PARTICIPANTS_ENDPOINT_URL}?did={did}&protocolUrl={protocolUrl}\", headers=default_headers)\n",
    "\n",
    "add_participant(did, protocolUrl)"
   ]
  },
  {
   "cell_type": "code",
   "execution_count": null,
   "metadata": {},
   "outputs": [],
   "source": [
    "show_participants()"
   ]
  },
  {
   "cell_type": "code",
   "execution_count": null,
   "metadata": {},
   "outputs": [],
   "source": [
    "fetch_catalog(FEDERATED_CATALOG_URL, default_headers).json()"
   ]
  },
  {
   "cell_type": "markdown",
   "metadata": {},
   "source": [
    "### Update participant's status"
   ]
  },
  {
   "cell_type": "code",
   "execution_count": null,
   "metadata": {},
   "outputs": [],
   "source": [
    "\"\"\"\n",
    "Available statuses:\n",
    "---\n",
    "ONBOARDING_INITIATED(0), // onboarding request received\n",
    "AUTHORIZING(100), // verifying participants credentials\n",
    "AUTHORIZED(200), // participant is authorized\n",
    "ONBOARDED(300), // participant is fully onboarded\n",
    "DENIED(400), // participant onboarding request denied\n",
    "FAILED(-1), // participant onboarding failed\n",
    "DELETED(-100);\n",
    "\"\"\"\n",
    "\n",
    "def update_participant_status(did, newStatus):\n",
    "    requests.patch(f\"{PARTICIPANTS_ENDPOINT_URL}/{did}?status={newStatus}\", headers=default_headers)\n",
    "\n",
    "update_participant_status(did, \"DENIED\")"
   ]
  },
  {
   "cell_type": "code",
   "execution_count": null,
   "metadata": {},
   "outputs": [],
   "source": [
    "update_participant_status(did, \"ONBOARDED\")"
   ]
  },
  {
   "cell_type": "code",
   "execution_count": null,
   "metadata": {},
   "outputs": [],
   "source": [
    "show_participants()"
   ]
  },
  {
   "cell_type": "markdown",
   "metadata": {},
   "source": [
    "### Update participant's claims"
   ]
  },
  {
   "cell_type": "code",
   "execution_count": null,
   "metadata": {},
   "outputs": [],
   "source": [
    "def update_claims(did, claims):\n",
    "    requests.patch(\n",
    "        headers=default_headers,\n",
    "        data=json.dumps(claims),\n",
    "        url=f\"{PARTICIPANTS_ENDPOINT_URL}/{did}/claims\")\n",
    "\n",
    "update_claims(did, { \"region\": \"pl\" })"
   ]
  },
  {
   "cell_type": "code",
   "execution_count": null,
   "metadata": {},
   "outputs": [],
   "source": [
    "update_claims(did, { \"region\": \"pl\" })"
   ]
  },
  {
   "cell_type": "code",
   "execution_count": null,
   "metadata": {},
   "outputs": [],
   "source": [
    "show_participants()"
   ]
  },
  {
   "cell_type": "markdown",
   "metadata": {},
   "source": [
    "## Perform asset transfer"
   ]
  },
  {
   "cell_type": "markdown",
   "metadata": {},
   "source": [
    "### Create example asset, policy and policy definition"
   ]
  },
  {
   "cell_type": "code",
   "execution_count": null,
   "metadata": {},
   "outputs": [],
   "source": [
    "asset_id = \"registration-service-notebook-example-asset\"\n",
    "\n",
    "asset = create_asset(asset_id, PROVIDER_MANAGEMENT, default_headers)\n",
    "\n",
    "# expected 200 or 409 (already exists) because the @id is fixed in the example\n",
    "asset.status_code"
   ]
  },
  {
   "cell_type": "code",
   "execution_count": null,
   "metadata": {},
   "outputs": [],
   "source": [
    "policy_id = \"registration-service-notebook-example-policy\"\n",
    "allowed_policy_region = \"pl\"\n",
    "\n",
    "allowed_region_rule = {\n",
    "    \"action\": \"use\", \n",
    "    \"constraint\": { \n",
    "        \"@type\": \"AtomicConstraint\", \n",
    "        \"leftOperand\": \"https://w3id.org/edc/v0.0.1/ns/regionLocation\", \n",
    "        \"operator\": \"odrl:eq\", \n",
    "        \"rightOperand\": allowed_policy_region \n",
    "    }\n",
    "}\n",
    "\n",
    "policy = create_policy(policy_id, PROVIDER_MANAGEMENT, default_headers, permissions=[allowed_region_rule])\n",
    "\n",
    "# expected 200 or 409 (already exists) because the @id is fixed in the example\n",
    "print(policy.status_code)"
   ]
  },
  {
   "cell_type": "code",
   "execution_count": null,
   "metadata": {},
   "outputs": [],
   "source": [
    "contract_definition_id = \"registration-service-notebook-example-contract-definition\"\n",
    "\n",
    "contract_definition = create_contract_definition(contract_definition_id, PROVIDER_MANAGEMENT, asset_id, policy_id, default_headers)\n",
    "\n",
    "# expected 200 or 409 (already exists) because the @id is fixed in the example\n",
    "contract_definition.status_code"
   ]
  },
  {
   "cell_type": "markdown",
   "metadata": {},
   "source": [
    "### Fetch catalog, negotiate and perform transfer"
   ]
  },
  {
   "cell_type": "code",
   "execution_count": null,
   "metadata": {},
   "outputs": [],
   "source": [
    "import time\n",
    "\n",
    "# 1. fetch catalog\n",
    "fetched_catalog = fetch_catalog(FEDERATED_CATALOG_URL, default_headers)\n",
    "print(f\"1. Catalog fetch: {fetched_catalog.status_code}\")\n",
    "\n",
    "# 2. check if there is an existing negotiation\n",
    "existing_negotiation = check_existing_negotiation(asset_id, CONSUMER_MANAGEMENT, default_headers)\n",
    "contract_agreement_id = \"\"\n",
    "\n",
    "if existing_negotiation is not None:\n",
    "    # 2A. Use existing negotiation\n",
    "    contract_agreement_id = existing_negotiation\n",
    "    print(f\"Negotiation for asset \\\"{asset_id}\\\" already exists\")\n",
    "else:\n",
    "    offer_id = get_offer_id(fetched_catalog.json(), asset_id)\n",
    "    print(\"OfferId:\", offer_id)\n",
    "\n",
    "    # 2B. Negotitate a contract\n",
    "    negotiated_contract = negotiate_contract(\n",
    "        offer_id, CONSUMER_MANAGEMENT, provider_protocol_internal, [allowed_region_rule], default_headers)\n",
    "    # If there's policy with rules then negotiated_contract = negotiate_contract(offer_id, CONSUMER_MANAGEMENT, provider_protocol_internal, [allowed_region_rule], default_headers)\n",
    "    print(f\"Negotiate a contract: {negotiated_contract.status_code}\")\n",
    "\n",
    "    # wait a minute until the negotiation will be finalized (automatic interval process takes maximum 60 secondes to load new contracts)\n",
    "    print(\"... Waiting for negotiation to save ...\")\n",
    "    time.sleep(60)\n",
    "\n",
    "    contract_negotiation_id = negotiated_contract.json()[\"@id\"]\n",
    "    contract_agreement = get_contract_agreement_id(contract_negotiation_id, CONSUMER_MANAGEMENT, default_headers)\n",
    "    print(contract_agreement.json())\n",
    "\n",
    "    if (\"contractAgreementId\" in contract_agreement.json()):\n",
    "        contract_agreement_id = contract_agreement.json()[\"contractAgreementId\"]\n",
    "\n",
    "print(\"[@AgreementId]:\", contract_agreement_id)\n",
    "\n",
    "# Check for existing transfer for given asset and agreement\n",
    "existing_transfer = check_existing_transfer(asset_id, contract_agreement_id, CONSUMER_BACKEND_EDR, CONSUMER_MANAGEMENT, default_headers)\n",
    "\n",
    "# 3. transfer asset\n",
    "if existing_transfer is not None:\n",
    "    print(f\"Requested transfer already exists: {existing_transfer}\")\n",
    "    requested_transfer = get_transfer(existing_transfer, CONSUMER_MANAGEMENT, default_headers)\n",
    "else:\n",
    "    requested_transfer = request_consumer_pull_transfer(\n",
    "        \"provider\",\n",
    "        CONSUMER_MANAGEMENT,\n",
    "        CONSUMER_BACKEND_EDR,\n",
    "        provider_protocol_internal,\n",
    "        contract_agreement_id,\n",
    "        default_headers\n",
    "    )\n",
    "\n",
    "print(f\"3. Transfer an asset: {requested_transfer.status_code}\")\n",
    "print(requested_transfer.json())"
   ]
  },
  {
   "cell_type": "code",
   "execution_count": null,
   "metadata": {},
   "outputs": [],
   "source": [
    "transfer_id = requested_transfer.json()[\"@id\"]\n",
    "\n",
    "get_transfer_state(CONSUMER_MANAGEMENT, transfer_id, default_headers)"
   ]
  },
  {
   "cell_type": "markdown",
   "metadata": {},
   "source": [
    "### Remove a participant from the dataspace"
   ]
  },
  {
   "cell_type": "code",
   "execution_count": null,
   "metadata": {},
   "outputs": [],
   "source": [
    "def remove_participant(did):\n",
    "    requests.delete(f\"{PARTICIPANTS_ENDPOINT_URL}/{did}\")\n",
    "\n",
    "remove_participant(did)"
   ]
  },
  {
   "cell_type": "code",
   "execution_count": null,
   "metadata": {},
   "outputs": [],
   "source": [
    "show_participants()"
   ]
  },
  {
   "cell_type": "code",
   "execution_count": null,
   "metadata": {},
   "outputs": [],
   "source": [
    "fetch_catalog(FEDERATED_CATALOG_URL, default_headers).json()"
   ]
  }
 ],
 "metadata": {
  "kernelspec": {
   "display_name": "venv",
   "language": "python",
   "name": "python3"
  },
  "language_info": {
   "codemirror_mode": {
    "name": "ipython",
    "version": 3
   },
   "file_extension": ".py",
   "mimetype": "text/x-python",
   "name": "python",
   "nbconvert_exporter": "python",
   "pygments_lexer": "ipython3",
   "version": "3.13.3"
  }
 },
 "nbformat": 4,
 "nbformat_minor": 4
}
