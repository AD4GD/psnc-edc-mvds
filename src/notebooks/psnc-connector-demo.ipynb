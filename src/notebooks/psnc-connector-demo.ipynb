{
 "cells": [
  {
   "cell_type": "markdown",
   "metadata": {},
   "source": [
    "## Connector demo\n",
    "compatible with EDC v0.10.1\n",
    "\n",
    "most examples based on the edc samples: https://github.com/eclipse-edc/Samples"
   ]
  },
  {
   "cell_type": "code",
   "execution_count": 11,
   "metadata": {},
   "outputs": [],
   "source": [
    "import requests\n",
    "import json\n",
    "\n",
    "from dataspace_apis import *"
   ]
  },
  {
   "cell_type": "markdown",
   "metadata": {},
   "source": [
    "### Demo setup"
   ]
  },
  {
   "cell_type": "code",
   "execution_count": 12,
   "metadata": {},
   "outputs": [],
   "source": [
    "\n",
    "IS_LOCALHOST_DEPLOYMENT = False\n",
    "\n",
    "# for paas:\n",
    "PROVIDER_URL = \"https://ad4gd-provider-edc.dashboard-siba.store\"\n",
    "#CONSUMER_URL = \"https://consumer-edc-connector.nilu.no\"\n",
    "CONSUMER_URL = \"https://consumer-edc-connector.apps.dcw1.paas.psnc.pl\"\n",
    "FEDERATED_CATALOG_BASE_URL = \"https://ad4gd-catalog-edc.dashboard-siba.store\"\n",
    "CONSUMER_BACKEND_URL = \"https://consback-edc-connector.apps.dcw1.paas.psnc.pl\"\n",
    "\n",
    "#PROVIDER_URL = \"https://provider-edc-connector.apps.paas-dev.psnc.pl\"\n",
    "#CONSUMER_URL = \"https://consumer-edc-connector.apps.paas-dev.psnc.pl\"\n",
    "#FEDERATED_CATALOG_BASE_URL = \"https://federatedcatalog-edc-connector.apps.paas-dev.psnc.pl\"\n",
    "#CONSUMER_BACKEND_URL = \"https://consback-edc-connector.apps.paas-dev.psnc.pl\"\n",
    "\n",
    "# PROVIDER_URL = \"https://provider-edc-connector.apps.dcw1.paas.psnc.pl\"\n",
    "# CONSUMER_URL = \"https://consumer-edc-connector.apps.dcw1.paas.psnc.pl\"\n",
    "# FEDERATED_CATALOG_BASE_URL = \"https://federatedcatalog-edc-connector.apps.dcw1.paas.psnc.pl\"\n",
    "\n",
    "## for local:\n",
    "LOCALHOST = \"http://localhost\"\n",
    "CONSUMER_CONTAINER = \"http://consumer-connector\"\n",
    "PROVIDER_CONTAINER = \"http://provider-connector\"\n",
    "FEDERATED_CATALOG_BASE_CONTAINER = \"http://federated-catalog\"\n",
    "CONSUMER_BACKEND_CONTAINER = \"http://consumer-backend\"\n",
    "\n",
    "if (IS_LOCALHOST_DEPLOYMENT):\n",
    "    CONSUMER_URL = LOCALHOST\n",
    "    PROVIDER_URL = LOCALHOST\n",
    "    FEDERATED_CATALOG_BASE_URL = LOCALHOST"
   ]
  },
  {
   "cell_type": "code",
   "execution_count": 13,
   "metadata": {},
   "outputs": [],
   "source": [
    "PROVIDER_API = f\"{PROVIDER_URL}/api\"\n",
    "PROVIDER_CONTROL = f\"{PROVIDER_URL}/control\"\n",
    "PROVIDER_MANAGEMENT = f\"{PROVIDER_URL}/management\"\n",
    "PROVIDER_PROTOCOL = f\"{PROVIDER_URL}/protocol\"\n",
    "PROVIDER_PUBLIC = f\"{PROVIDER_URL}/public\"\n",
    "\n",
    "CONSUMER_API = f\"{CONSUMER_URL}/api\"\n",
    "CONSUMER_CONTROL = f\"{CONSUMER_URL}/control\"\n",
    "CONSUMER_MANAGEMENT = f\"{CONSUMER_URL}/management\"\n",
    "CONSUMER_PROTOCOL = f\"{CONSUMER_URL}/protocol\"\n",
    "CONSUMER_PUBLIC = f\"{CONSUMER_URL}/public\"\n",
    "\n",
    "CONSUMER_BACKEND_EDR = f\"{CONSUMER_BACKEND_URL}/edr-endpoint\"\n",
    "FEDERATED_CATALOG_URL = f\"{FEDERATED_CATALOG_BASE_URL}/catalog\"\n",
    "\n",
    "if (IS_LOCALHOST_DEPLOYMENT):\n",
    "    PROVIDER_API = f\"{PROVIDER_URL}:19191/api\"\n",
    "    PROVIDER_CONTROL = f\"{PROVIDER_URL}:19192/control\"\n",
    "    PROVIDER_MANAGEMENT = f\"{PROVIDER_URL}:19193/management\"\n",
    "    PROVIDER_PROTOCOL = f\"{PROVIDER_URL}:19194/protocol\"\n",
    "    PROVIDER_PUBLIC = f\"{PROVIDER_URL}:19291/public\"\n",
    "\n",
    "    CONSUMER_API = f\"{CONSUMER_URL}:29191/api\"\n",
    "    CONSUMER_CONTROL = f\"{CONSUMER_URL}:29192/control\"\n",
    "    CONSUMER_MANAGEMENT = f\"{CONSUMER_URL}:29193/management\"\n",
    "    CONSUMER_PROTOCOL = f\"{CONSUMER_URL}:29194/protocol\"\n",
    "    CONSUMER_PUBLIC = f\"{CONSUMER_URL}:29291/public\"\n",
    "\n",
    "    CONSUMER_BACKEND_EDR = f\"{CONSUMER_BACKEND_CONTAINER}:4000/edr-endpoint\"\n",
    "    FEDERATED_CATALOG_URL = f\"{FEDERATED_CATALOG_BASE_URL}:9181/catalog\""
   ]
  },
  {
   "cell_type": "code",
   "execution_count": 14,
   "metadata": {},
   "outputs": [],
   "source": [
    "\"\"\"\n",
    "The vars below are useful when working on local deployment\n",
    "(or at least when no routings are specified for connectors)\n",
    "Docker containers have their own localhost, which is not the host\n",
    "machine's localhost.\n",
    "\n",
    "In some requests there is a 'counterPartyAddress' which contains\n",
    "localhost. This one will be solved as containers' internal localhost\n",
    "but not the localhost of the host machine and connectors won't connect\n",
    "to each other.\n",
    "\n",
    "Hence we substitute the \"localhost\" with containers' names (if they\n",
    "contain \"localhost\", otherwise urls remain unchanged).\n",
    "If routings are specified correctly on PaaS, those lines aren't\n",
    "required.\n",
    "\n",
    "We leave those vars here anyway, just not to complicate \n",
    "any of the requests later in the demo. \n",
    "\"\"\"\n",
    "\n",
    "provider_control_internal = PROVIDER_CONTROL.replace(LOCALHOST, PROVIDER_CONTAINER)\n",
    "provider_public_internal = PROVIDER_PUBLIC.replace(LOCALHOST, PROVIDER_CONTAINER)\n",
    "provider_protocol_internal = f\"{PROVIDER_PROTOCOL}\".replace(LOCALHOST, PROVIDER_CONTAINER)\n",
    "\n",
    "default_headers = {\n",
    "    \"Content-Type\": \"application/json\",\n",
    "    \"x-api-key\": \"edc\",\n",
    "}"
   ]
  },
  {
   "cell_type": "markdown",
   "metadata": {},
   "source": [
    "### Conn Check"
   ]
  },
  {
   "cell_type": "code",
   "execution_count": 6,
   "metadata": {},
   "outputs": [
    {
     "name": "stdout",
     "output_type": "stream",
     "text": [
      "https://ad4gd-provider-edc.dashboard-siba.store/api/check/health/\n",
      "{'componentResults': [{'failure': None, 'component': 'Dataplane Self Registration', 'isHealthy': True}, {'failure': None, 'component': 'BaseRuntime', 'isHealthy': True}], 'isSystemHealthy': True}\n",
      "https://consumer-edc-connector.apps.dcw1.paas.psnc.pl/api/check/health/\n",
      "{'componentResults': [{'failure': None, 'component': 'Dataplane Self Registration', 'isHealthy': True}, {'failure': None, 'component': 'BaseRuntime', 'isHealthy': True}], 'isSystemHealthy': True}\n",
      "They're Alive!\n"
     ]
    }
   ],
   "source": [
    "def check_health(coreApiUrl):\n",
    "    print(f\"{coreApiUrl}/check/health/\")\n",
    "    rp = requests.get(f\"{coreApiUrl}/check/health/\", headers=default_headers).json()\n",
    "    print(rp)\n",
    "\n",
    "check_health(PROVIDER_API)\n",
    "check_health(CONSUMER_API)\n",
    "print(\"They're Alive!\")"
   ]
  },
  {
   "cell_type": "markdown",
   "metadata": {},
   "source": [
    "### Populating the provider"
   ]
  },
  {
   "cell_type": "markdown",
   "metadata": {},
   "source": [
    "Not required to run, since connectors self-register data plane on startup. Just provided as an example."
   ]
  },
  {
   "cell_type": "code",
   "execution_count": 7,
   "metadata": {},
   "outputs": [
    {
     "data": {
      "text/plain": [
       "409"
      ]
     },
     "execution_count": 7,
     "metadata": {},
     "output_type": "execute_result"
    }
   ],
   "source": [
    "asset_id = \"test-asset\"\n",
    "\n",
    "asset = create_asset(asset_id, PROVIDER_MANAGEMENT, default_headers)\n",
    "\n",
    "# expected 200 or 409 (already exists) because the @id is fixed in the example\n",
    "asset.status_code"
   ]
  },
  {
   "cell_type": "code",
   "execution_count": 8,
   "metadata": {},
   "outputs": [
    {
     "name": "stdout",
     "output_type": "stream",
     "text": [
      "409\n"
     ]
    }
   ],
   "source": [
    "policy_id = \"test-policy\"\n",
    "\n",
    "policy = create_policy(policy_id, PROVIDER_MANAGEMENT, default_headers, permissions=[])\n",
    "\n",
    "\n",
    "\"\"\"\n",
    "example with rule:\n",
    "\n",
    "allowed_policy_region = \"pl\"\n",
    "allowed_region_rule = {\n",
    "    \"action\": \"use\", \n",
    "    \"constraint\": { \n",
    "        \"@type\": \"AtomicConstraint\", \n",
    "        \"leftOperand\": \"https://w3id.org/edc/v0.0.1/ns/regionLocation\", \n",
    "        \"operator\": \"odrl:eq\", \n",
    "        \"rightOperand\": allowed_policy_region \n",
    "    }\n",
    "}\n",
    "policy = create_policy(policy_id, PROVIDER_MANAGEMENT, default_headers, permissions=[allowed_region_rule])\n",
    "\"\"\"\n",
    "\n",
    "# expected 200 or 409 (already exists) because the @id is fixed in the example\n",
    "print(policy.status_code)"
   ]
  },
  {
   "cell_type": "markdown",
   "metadata": {},
   "source": [
    "Contract definition - Links an asset with a policy"
   ]
  },
  {
   "cell_type": "code",
   "execution_count": 9,
   "metadata": {},
   "outputs": [
    {
     "data": {
      "text/plain": [
       "409"
      ]
     },
     "execution_count": 9,
     "metadata": {},
     "output_type": "execute_result"
    }
   ],
   "source": [
    "contract_definition_id = \"test-contract-definition\"\n",
    "\n",
    "contract_definition = create_contract_definition(contract_definition_id, PROVIDER_MANAGEMENT, asset_id, policy_id, default_headers)\n",
    "\n",
    "# expected 200 or 409 (already exists) because the @id is fixed in the example\n",
    "contract_definition.status_code"
   ]
  },
  {
   "cell_type": "markdown",
   "metadata": {},
   "source": [
    "### Working on consumer side\n",
    "\n",
    "Fetch catalog, negotiate and perform transfer"
   ]
  },
  {
   "cell_type": "code",
   "execution_count": null,
   "metadata": {},
   "outputs": [],
   "source": [
    "import time\n",
    "\n",
    "# 1. fetch catalog\n",
    "fetched_catalog = fetch_catalog(FEDERATED_CATALOG_URL, default_headers)\n",
    "print(f\"1. Catalog fetch: {fetched_catalog.status_code}\")\n",
    "\n",
    "# 2. check if there is an existing negotiation\n",
    "existing_negotiation = check_existing_negotiation(asset_id, CONSUMER_MANAGEMENT, default_headers)\n",
    "contract_agreement_id = \"\"\n",
    "\n",
    "if existing_negotiation is not None:\n",
    "    # 2A. Use existing negotiation\n",
    "    contract_agreement_id = existing_negotiation\n",
    "    print(f\"Negotiation for asset \\\"{asset_id}\\\" already exists\")\n",
    "else:\n",
    "    offer_id = get_offer_id(fetched_catalog.json(), asset_id)\n",
    "    print(\"OfferId:\", offer_id)\n",
    "\n",
    "    # 2B. Negotitate a contract\n",
    "    negotiated_contract = negotiate_contract(\n",
    "        offer_id, CONSUMER_MANAGEMENT, provider_protocol_internal, [], default_headers)\n",
    "    # If there's policy with rules then negotiated_contract = negotiate_contract(offer_id, CONSUMER_MANAGEMENT, provider_protocol_internal, [allowed_region_rule], default_headers)\n",
    "\n",
    "    print(f\"Negotiate a contract: {negotiated_contract.status_code}\")\n",
    "    print(negotiated_contract.json())\n",
    "\n",
    "    # wait a minute until the negotiation will be finalized (automatic interval process takes maximum 60 secondes to load new contracts)\n",
    "    print(\"... Waiting for negotiation to save ...\")\n",
    "    time.sleep(60)\n",
    "\n",
    "    contract_negotiation_id = negotiated_contract.json()[\"@id\"]\n",
    "    contract_agreement = get_contract_agreement_id(contract_negotiation_id, CONSUMER_MANAGEMENT, default_headers)\n",
    "    print(contract_agreement.json())\n",
    "\n",
    "    if (\"contractAgreementId\" in contract_agreement.json()):\n",
    "        contract_agreement_id = contract_agreement.json()[\"contractAgreementId\"]\n",
    "\n",
    "print(\"[@AgreementId]:\", contract_agreement_id)\n",
    "\n",
    "# Check for existing transfer for given asset and agreement\n",
    "existing_transfer = check_existing_transfer(asset_id, contract_agreement_id, CONSUMER_BACKEND_EDR, CONSUMER_MANAGEMENT, default_headers)\n",
    "\n",
    "# 3. transfer asset\n",
    "if existing_transfer is not None:\n",
    "    print(f\"Requested transfer already exists: {existing_transfer}\")\n",
    "    requested_transfer = get_transfer(existing_transfer, CONSUMER_MANAGEMENT, default_headers)\n",
    "else:\n",
    "    requested_transfer = request_consumer_pull_transfer(\n",
    "        \"provider\",\n",
    "        CONSUMER_MANAGEMENT,\n",
    "        CONSUMER_BACKEND_EDR,\n",
    "        provider_protocol_internal,\n",
    "        contract_agreement_id,\n",
    "        default_headers\n",
    "    )\n",
    "\n",
    "print(f\"3. Transfer an asset: {requested_transfer.status_code}\")\n",
    "print(requested_transfer.json())"
   ]
  },
  {
   "cell_type": "markdown",
   "metadata": {},
   "source": [
    "## Transfer with query params to PSNC MinIO"
   ]
  },
  {
   "cell_type": "code",
   "execution_count": null,
   "metadata": {},
   "outputs": [],
   "source": [
    "import time\n",
    "\n",
    "# 1. fetch catalog\n",
    "fetched_catalog = fetch_catalog(FEDERATED_CATALOG_URL, default_headers)\n",
    "print(f\"1. Catalog fetch: {fetched_catalog.status_code}\")\n",
    "\n",
    "# 2. check if there is an existing negotiation\n",
    "existing_negotiation = check_existing_negotiation(asset_id, CONSUMER_MANAGEMENT, default_headers)\n",
    "print(f\"Negotiation fo asset \\\"{asset_id}\\\"already exists\")\n",
    "contract_agreement_id = \"\"\n",
    "\n",
    "if existing_negotiation is not None:\n",
    "    # 2A. Use existing negotiation\n",
    "    contract_agreement_id = existing_negotiation\n",
    "else:\n",
    "    offer_id = get_offer_id(fetched_catalog.json(), asset_id)\n",
    "    print(offer_id)\n",
    "\n",
    "    # 2. negotiate a contract\n",
    "    negotiated_contract = negotiate_contract(\n",
    "        offer_id, CONSUMER_MANAGEMENT, provider_protocol_internal, [], default_headers)\n",
    "    # If there's policy with rules then negotiated_contract = negotiate_contract(offer_id, CONSUMER_MANAGEMENT, provider_protocol_internal, [allowed_region_rule], default_headers)\n",
    "\n",
    "    print(f\"2. Negotiate a contract: {negotiated_contract.status_code}\")\n",
    "    print(negotiated_contract.json())\n",
    "\n",
    "    # wait a minute until the negotiation will be finalized (automatic interval process takes maximum 60 secondes to load new contracts)\n",
    "    print(\"... Waiting for negotiation to save ...\")\n",
    "    time.sleep(60)\n",
    "\n",
    "    contract_negotiation_id = negotiated_contract.json()[\"@id\"]\n",
    "    contract_agreement = get_contract_agreement_id(contract_negotiation_id, CONSUMER_MANAGEMENT, default_headers)\n",
    "    print(contract_agreement.json())\n",
    "\n",
    "    if (\"contractAgreementId\" in contract_agreement.json()):\n",
    "        contract_agreement_id = contract_agreement.json()[\"contractAgreementId\"]\n",
    "\n",
    "print(\"[@ContractAgreementId]:\", contract_agreement_id)\n",
    "\n",
    "# 3. transfer asset (this will save the asset to PSNC MinIO)\n",
    "query_params = \"?url=false\"\n",
    "consumer_backend_url_with_query_params = CONSUMER_BACKEND_EDR + query_params\n",
    "\n",
    "# Check for existing transfer for given asset and agreement\n",
    "existing_transfer = check_existing_transfer(asset_id, contract_agreement_id, consumer_backend_url_with_query_params, CONSUMER_MANAGEMENT, default_headers)\n",
    "\n",
    "# 3. transfer asset\n",
    "if existing_transfer is not None:\n",
    "    print(f\"Requested transfer already exists: {existing_transfer}\")\n",
    "    requested_transfer = get_transfer(existing_transfer, CONSUMER_MANAGEMENT, default_headers)\n",
    "else:\n",
    "    requested_transfer = request_consumer_pull_transfer(\n",
    "        \"provider\",\n",
    "        CONSUMER_MANAGEMENT,\n",
    "        consumer_backend_url_with_query_params,\n",
    "        provider_protocol_internal,\n",
    "        contract_agreement_id,\n",
    "        default_headers\n",
    "    )\n",
    "\n",
    "print(f\"3. Transfer an asset: {requested_transfer.status_code}\")\n",
    "print(requested_transfer.json())"
   ]
  },
  {
   "cell_type": "markdown",
   "metadata": {},
   "source": [
    "## Local transfer"
   ]
  },
  {
   "cell_type": "code",
   "execution_count": null,
   "metadata": {},
   "outputs": [
    {
     "name": "stdout",
     "output_type": "stream",
     "text": [
      "1. Catalog fetch: 200\n",
      "Negotiation for asset \"test-asset\": a01dda71-4c75-44fb-ab26-7efbe974cab5\n",
      "[@ContractAgreementId]: a01dda71-4c75-44fb-ab26-7efbe974cab5\n",
      "Requested transfer already exists: 014fd1cf-5bc7-4f30-a487-364744f2d067\n",
      "... Waiting for transfer to save ...\n",
      "3. Transfer an asset: 200\n",
      "{'@id': '014fd1cf-5bc7-4f30-a487-364744f2d067', '@type': 'TransferProcess', 'state': 'STARTED', 'stateTimestamp': 1750096798399, 'type': 'CONSUMER', 'callbackAddresses': {'@type': 'CallbackAddress', 'transactional': False, 'uri': 'https://consback-edc-connector.apps.dcw1.paas.psnc.pl/edr-endpoint?url=false', 'events': 'transfer.process.started'}, 'correlationId': '7248bd53-ca74-4465-8e83-29c921cfd4b0', 'assetId': 'test-asset', 'contractId': 'a01dda71-4c75-44fb-ab26-7efbe974cab5', 'transferType': 'HttpData-PULL', 'dataDestination': {'@type': 'DataAddress', 'type': 'HttpProxy'}, '@context': {'@vocab': 'https://w3id.org/edc/v0.0.1/ns/', 'edc': 'https://w3id.org/edc/v0.0.1/ns/', 'odrl': 'http://www.w3.org/ns/odrl/2/'}}\n",
      "4. Get credentials\n",
      "https://consumer-edc-connector.apps.dcw1.paas.psnc.pl/management/v3/edrs/014fd1cf-5bc7-4f30-a487-364744f2d067/dataaddress\n"
     ]
    },
    {
     "ename": "TypeError",
     "evalue": "list indices must be integers or slices, not str",
     "output_type": "error",
     "traceback": [
      "\u001b[0;31m---------------------------------------------------------------------------\u001b[0m",
      "\u001b[0;31mTypeError\u001b[0m                                 Traceback (most recent call last)",
      "Cell \u001b[0;32mIn[15], line 72\u001b[0m\n\u001b[1;32m     70\u001b[0m proxy_path \u001b[38;5;241m=\u001b[39m \u001b[38;5;124m\"\u001b[39m\u001b[38;5;124mformats/html\u001b[39m\u001b[38;5;124m\"\u001b[39m\n\u001b[1;32m     71\u001b[0m query_params \u001b[38;5;241m=\u001b[39m \u001b[38;5;124m\"\u001b[39m\u001b[38;5;124murl=true\u001b[39m\u001b[38;5;124m\"\u001b[39m\n\u001b[0;32m---> 72\u001b[0m public \u001b[38;5;241m=\u001b[39m \u001b[38;5;124mf\u001b[39m\u001b[38;5;124m\"\u001b[39m\u001b[38;5;132;01m{\u001b[39;00m\u001b[43mtransfer_credentials\u001b[49m\u001b[43m[\u001b[49m\u001b[38;5;124;43m'\u001b[39;49m\u001b[38;5;124;43mendpoint\u001b[39;49m\u001b[38;5;124;43m'\u001b[39;49m\u001b[43m]\u001b[49m\u001b[38;5;132;01m}\u001b[39;00m\u001b[38;5;124m/\u001b[39m\u001b[38;5;132;01m{\u001b[39;00mproxy_path\u001b[38;5;132;01m}\u001b[39;00m\u001b[38;5;124m?\u001b[39m\u001b[38;5;132;01m{\u001b[39;00mquery_params\u001b[38;5;132;01m}\u001b[39;00m\u001b[38;5;124m\"\u001b[39m\n\u001b[1;32m     74\u001b[0m \u001b[38;5;28;01mif\u001b[39;00m IS_LOCALHOST_DEPLOYMENT:\n\u001b[1;32m     75\u001b[0m     public \u001b[38;5;241m=\u001b[39m public\u001b[38;5;241m.\u001b[39mreplace(PROVIDER_CONTAINER, LOCALHOST)\n",
      "\u001b[0;31mTypeError\u001b[0m: list indices must be integers or slices, not str"
     ]
    }
   ],
   "source": [
    "import time\n",
    "\n",
    "# 1. fetch catalog\n",
    "fetched_catalog = fetch_catalog(FEDERATED_CATALOG_URL, default_headers)\n",
    "print(f\"1. Catalog fetch: {fetched_catalog.status_code}\")\n",
    "\n",
    "# 2. check if there is an existing negotiation\n",
    "existing_negotiation = check_existing_negotiation(asset_id, CONSUMER_MANAGEMENT, default_headers)\n",
    "print(f\"Negotiation for asset \\\"{asset_id}\\\": {existing_negotiation}\")\n",
    "contract_agreement_id = \"\"\n",
    "\n",
    "if existing_negotiation is not None:\n",
    "    # 2A. Use existing negotiation\n",
    "    contract_agreement_id = existing_negotiation\n",
    "else:\n",
    "    offer_id = get_offer_id(fetched_catalog.json(), asset_id)\n",
    "    print(offer_id)\n",
    "    # 2. negotiate a contract\n",
    "    negotiated_contract = negotiate_contract(\n",
    "        offer_id, CONSUMER_MANAGEMENT, provider_protocol_internal, [], default_headers)\n",
    "    # If there's policy with rules then negotiated_contract = negotiate_contract(offer_id, CONSUMER_MANAGEMENT, provider_protocol_internal, [allowed_region_rule], default_headers)\n",
    "\n",
    "    print(f\"2. Negotiate a contract: {negotiated_contract.status_code}\")\n",
    "    print(negotiated_contract.json())\n",
    "\n",
    "    # wait a minute until the negotiation will be finalized (automatic interval process takes maximum 60 secondes to load new contracts)\n",
    "    print(\"... Waiting for negotiation to save ...\")\n",
    "    time.sleep(60)\n",
    "\n",
    "    contract_negotiation_id = negotiated_contract.json()[\"@id\"]\n",
    "    contract_agreement = get_contract_agreement_id(contract_negotiation_id, CONSUMER_MANAGEMENT, default_headers)\n",
    "    print(contract_agreement.json())\n",
    "\n",
    "    if (\"contractAgreementId\" in contract_agreement.json()):\n",
    "        contract_agreement_id = contract_agreement.json()[\"contractAgreementId\"]\n",
    "\n",
    "print(\"[@ContractAgreementId]:\", contract_agreement_id)\n",
    "\n",
    "# 3. transfer asset (this will save the asset to PSNC MinIO)\n",
    "query_params = \"?url=false\"\n",
    "consumer_backend_url_with_query_params = CONSUMER_BACKEND_EDR + query_params\n",
    "\n",
    "# Check for existing transfer for given asset and agreement\n",
    "existing_transfer = check_existing_transfer(asset_id, contract_agreement_id, consumer_backend_url_with_query_params, CONSUMER_MANAGEMENT, default_headers)\n",
    "\n",
    "# 3. transfer asset\n",
    "if existing_transfer is not None:\n",
    "    print(f\"Requested transfer already exists: {existing_transfer}\")\n",
    "    requested_transfer = get_transfer(existing_transfer, CONSUMER_MANAGEMENT, default_headers)\n",
    "else:\n",
    "    requested_transfer = request_consumer_pull_transfer(\n",
    "        \"provider\",\n",
    "        CONSUMER_MANAGEMENT,\n",
    "        consumer_backend_url_with_query_params,\n",
    "        provider_protocol_internal,\n",
    "        contract_agreement_id,\n",
    "        default_headers\n",
    "    )\n",
    "\n",
    "print(\"... Waiting for transfer to save ...\")\n",
    "time.sleep(10)\n",
    "\n",
    "print(f\"3. Transfer an asset: {requested_transfer.status_code}\")\n",
    "print(requested_transfer.json())\n",
    "\n",
    "print(\"4. Get credentials\")\n",
    "print(f\"{CONSUMER_MANAGEMENT}/v3/edrs/{requested_transfer.json()[\"@id\"]}/dataaddress\")\n",
    "transfer_credentials = get_transfer_data_credentials(CONSUMER_MANAGEMENT, requested_transfer.json()[\"@id\"], default_headers)\n",
    "print(transfer_credentials)\n",
    "\n",
    "proxy_path = \"formats/html\"\n",
    "query_params = \"url=true\"\n",
    "public = f\"{transfer_credentials['endpoint']}/{proxy_path}?{query_params}\"\n",
    "\n",
    "if IS_LOCALHOST_DEPLOYMENT:\n",
    "    public = public.replace(PROVIDER_CONTAINER, LOCALHOST)\n",
    "    \n",
    "data = get_data_locally(public, transfer_credentials['authorization'])\n",
    "if (data.text):\n",
    "    print(data.text)\n",
    "else:\n",
    "    print(data.content)\n",
    "    "
   ]
  }
 ],
 "metadata": {
  "kernelspec": {
   "display_name": "Python 3",
   "language": "python",
   "name": "python3"
  },
  "language_info": {
   "codemirror_mode": {
    "name": "ipython",
    "version": 3
   },
   "file_extension": ".py",
   "mimetype": "text/x-python",
   "name": "python",
   "nbconvert_exporter": "python",
   "pygments_lexer": "ipython3",
   "version": "3.12.3"
  }
 },
 "nbformat": 4,
 "nbformat_minor": 4
}
