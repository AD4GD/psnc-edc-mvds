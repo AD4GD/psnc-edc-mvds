{
 "cells": [
  {
   "cell_type": "markdown",
   "metadata": {},
   "source": [
    "## Connector demo\n",
    "compatible with EDC v0.10.1\n",
    "\n",
    "most examples based on the edc samples: https://github.com/eclipse-edc/Samples"
   ]
  },
  {
   "cell_type": "code",
   "execution_count": 1,
   "metadata": {},
   "outputs": [],
   "source": [
    "import requests\n",
    "import json\n",
    "\n",
    "from dataspace_apis import *"
   ]
  },
  {
   "cell_type": "markdown",
   "metadata": {},
   "source": [
    "### Demo setup"
   ]
  },
  {
   "cell_type": "code",
   "execution_count": 2,
   "metadata": {},
   "outputs": [],
   "source": [
    "\n",
    "IS_LOCALHOST_DEPLOYMENT = True\n",
    "\n",
    "# for paas:\n",
    "#PROVIDER_URL = \"https://ad4gd-provider-edc.dashboard-siba.store\"\n",
    "#CONSUMER_URL = \"https://consumer-edc-connector.apps.dcw1.paas.psnc.pl\"\n",
    "#FEDERATED_CATALOG_BASE_URL = \"https://federatedcatalog-edc-connector.apps.dcw1.paas.psnc.pl\"\n",
    "\n",
    "PROVIDER_URL = \"https://provider-edc-connector.apps.paas-dev.psnc.pl\"\n",
    "CONSUMER_URL = \"https://consumer-edc-connector.apps.paas-dev.psnc.pl\"\n",
    "FEDERATED_CATALOG_BASE_URL = \"https://federatedcatalog-edc-connector.apps.paas-dev.psnc.pl\"\n",
    "\n",
    "#PROVIDER_URL = \"https://provider-edc-connector.apps.dcw1.paas.psnc.pl\"\n",
    "#CONSUMER_URL = \"https://consumer-edc-connector.apps.dcw1.paas.psnc.pl\"\n",
    "#FEDERATED_CATALOG_BASE_URL = \"https://federatedcatalog-edc-connector.apps.dcw1.paas.psnc.pl\"\n",
    "\n",
    "## for local:\n",
    "LOCALHOST = \"http://localhost\"\n",
    "CONSUMER_CONTAINER = \"http://consumer-connector\"\n",
    "PROVIDER_CONTAINER = \"http://provider-connector\"\n",
    "FEDERATED_CATALOG_BASE_CONTAINER = \"http://federated-catalog\"\n",
    "\n",
    "if (IS_LOCALHOST_DEPLOYMENT):\n",
    "    CONSUMER_URL = LOCALHOST\n",
    "    PROVIDER_URL = LOCALHOST\n",
    "    FEDERATED_CATALOG_BASE_URL = LOCALHOST"
   ]
  },
  {
   "cell_type": "code",
   "execution_count": 3,
   "metadata": {},
   "outputs": [],
   "source": [
    "PROVIDER_API = f\"{PROVIDER_URL}/api\"\n",
    "PROVIDER_CONTROL = f\"{PROVIDER_URL}/control\"\n",
    "PROVIDER_MANAGEMENT = f\"{PROVIDER_URL}/management\"\n",
    "PROVIDER_PROTOCOL = f\"{PROVIDER_URL}/protocol\"\n",
    "PROVIDER_PUBLIC = f\"{PROVIDER_URL}/public\"\n",
    "\n",
    "CONSUMER_API = f\"{CONSUMER_URL}/api\"\n",
    "CONSUMER_CONTROL = f\"{CONSUMER_URL}/control\"\n",
    "CONSUMER_MANAGEMENT = f\"{CONSUMER_URL}/management\"\n",
    "CONSUMER_PROTOCOL = f\"{CONSUMER_URL}/protocol\"\n",
    "CONSUMER_PUBLIC = f\"{CONSUMER_URL}/public\"\n",
    "\n",
    "FEDERATED_CATALOG_URL = f\"{FEDERATED_CATALOG_BASE_URL}/catalog\"\n",
    "\n",
    "if (IS_LOCALHOST_DEPLOYMENT):\n",
    "    PROVIDER_API = f\"{PROVIDER_URL}:19191/api\"\n",
    "    PROVIDER_CONTROL = f\"{PROVIDER_URL}:19192/control\"\n",
    "    PROVIDER_MANAGEMENT = f\"{PROVIDER_URL}:19193/management\"\n",
    "    PROVIDER_PROTOCOL = f\"{PROVIDER_URL}:19194/protocol\"\n",
    "    PROVIDER_PUBLIC = f\"{PROVIDER_URL}:19291/public\"\n",
    "\n",
    "    CONSUMER_API = f\"{CONSUMER_URL}:29191/api\"\n",
    "    CONSUMER_CONTROL = f\"{CONSUMER_URL}:29192/control\"\n",
    "    CONSUMER_MANAGEMENT = f\"{CONSUMER_URL}:29193/management\"\n",
    "    CONSUMER_PROTOCOL = f\"{CONSUMER_URL}:29194/protocol\"\n",
    "    CONSUMER_PUBLIC = f\"{CONSUMER_URL}:29291/public\"\n",
    "    \n",
    "    FEDERATED_CATALOG_URL = f\"{FEDERATED_CATALOG_BASE_URL}:9181/catalog\""
   ]
  },
  {
   "cell_type": "code",
   "execution_count": 12,
   "metadata": {},
   "outputs": [],
   "source": [
    "\"\"\"\n",
    "The vars below are useful when working on local deployment\n",
    "(or at least when no routings are specified for connectors)\n",
    "Docker containers have their own localhost, which is not the host\n",
    "machine's localhost.\n",
    "\n",
    "In some requests there is a 'counterPartyAddress' which contains\n",
    "localhost. This one will be solved as containers' internal localhost\n",
    "but not the localhost of the host machine and connectors won't connect\n",
    "to each other.\n",
    "\n",
    "Hence we substitute the \"localhost\" with containers' names (if they\n",
    "contain \"localhost\", otherwise urls remain unchanged).\n",
    "If routings are specified correctly on PaaS, those lines aren't\n",
    "required.\n",
    "\n",
    "We leave those vars here anyway, just not to complicate \n",
    "any of the requests later in the demo. \n",
    "\"\"\"\n",
    "\n",
    "provider_control_internal = PROVIDER_CONTROL.replace(LOCALHOST, PROVIDER_CONTAINER)\n",
    "provider_public_internal = PROVIDER_PUBLIC.replace(LOCALHOST, PROVIDER_CONTAINER)\n",
    "provider_protocol_internal = f\"{PROVIDER_PROTOCOL}\".replace(LOCALHOST, PROVIDER_CONTAINER)\n",
    "\n",
    "default_headers = {\n",
    "    \"Content-Type\": \"application/json\",\n",
    "    \"x-api-key\": \"edc\",\n",
    "}"
   ]
  },
  {
   "cell_type": "markdown",
   "metadata": {},
   "source": [
    "### Conn Check"
   ]
  },
  {
   "cell_type": "code",
   "execution_count": 5,
   "metadata": {},
   "outputs": [
    {
     "name": "stdout",
     "output_type": "stream",
     "text": [
      "http://localhost:19191/api/check/health/\n",
      "{'componentResults': [{'failure': None, 'component': 'Dataplane Self Registration', 'isHealthy': True}, {'failure': None, 'component': 'BaseRuntime', 'isHealthy': True}], 'isSystemHealthy': True}\n"
     ]
    }
   ],
   "source": [
    "print(f\"{PROVIDER_API}/check/health/\")\n",
    "rp = requests.get(f\"{PROVIDER_API}/check/health/\").json()\n",
    "print(rp)"
   ]
  },
  {
   "cell_type": "code",
   "execution_count": 6,
   "metadata": {},
   "outputs": [
    {
     "name": "stdout",
     "output_type": "stream",
     "text": [
      "http://localhost:19191/api/check/health/\n",
      "{'componentResults': [{'failure': None, 'component': 'Dataplane Self Registration', 'isHealthy': True}, {'failure': None, 'component': 'BaseRuntime', 'isHealthy': True}], 'isSystemHealthy': True}\n",
      "\n",
      "http://localhost:29191/api/check/health/\n",
      "{'componentResults': [{'failure': None, 'component': 'Dataplane Self Registration', 'isHealthy': True}, {'failure': None, 'component': 'BaseRuntime', 'isHealthy': True}], 'isSystemHealthy': True}\n",
      "\n",
      "They're Alive!\n"
     ]
    }
   ],
   "source": [
    "print(f\"{PROVIDER_API}/check/health/\")\n",
    "rp = requests.get(f\"{PROVIDER_API}/check/health/\").json()\n",
    "print(rp)\n",
    "\n",
    "print()\n",
    "\n",
    "print(f\"{CONSUMER_API}/check/health/\")\n",
    "rc = requests.get(f\"{CONSUMER_API}/check/health/\").json()\n",
    "print(rc)\n",
    "\n",
    "print()\n",
    "print(\"They're Alive!\")"
   ]
  },
  {
   "cell_type": "markdown",
   "metadata": {},
   "source": [
    "### Populating the provider"
   ]
  },
  {
   "cell_type": "markdown",
   "metadata": {},
   "source": [
    "Not required to run, since connectors self-register data plane on startup. Just provided as an example."
   ]
  },
  {
   "cell_type": "code",
   "execution_count": null,
   "metadata": {},
   "outputs": [],
   "source": [
    "def register_data_plane_instance_for_provider():\n",
    "    global provider_control_intern\n",
    "    global provider_public_intern\n",
    "\n",
    "    return requests.post(\n",
    "            headers=default_headers,\n",
    "            data=json.dumps({\n",
    "                \"@context\": {\n",
    "                    \"edc\": \"https://w3id.org/edc/v0.0.1/ns/\"\n",
    "                },\n",
    "                \"@id\": \"provider-dataplane\",\n",
    "                \"url\": f\"{provider_control_intern}/transfer\",\n",
    "                \"allowedSourceTypes\": [ \"HttpData\" ],\n",
    "                \"allowedDestTypes\": [ \"HttpProxy\", \"HttpData\" ],\n",
    "                \"properties\": {\n",
    "                        \"https://w3id.org/edc/v0.0.1/ns/publicApiUrl\": f\"{provider_public_intern}/\"\n",
    "                }\n",
    "            }),\n",
    "            url=f\"{PROVIDER_MANAGEMENT}/v2/dataplanes\"\n",
    "        )\n",
    "\n",
    "register_data_plane_instance_for_provider().status_code"
   ]
  },
  {
   "cell_type": "code",
   "execution_count": 7,
   "metadata": {},
   "outputs": [
    {
     "data": {
      "text/plain": [
       "200"
      ]
     },
     "execution_count": 7,
     "metadata": {},
     "output_type": "execute_result"
    }
   ],
   "source": [
    "asset_id = \"test-asset\"\n",
    "\n",
    "asset = create_asset(asset_id, PROVIDER_MANAGEMENT, default_headers)\n",
    "\n",
    "# expected 200 or 409 (already exists) because the @id is fixed in the example\n",
    "asset.status_code"
   ]
  },
  {
   "cell_type": "code",
   "execution_count": 8,
   "metadata": {},
   "outputs": [
    {
     "name": "stdout",
     "output_type": "stream",
     "text": [
      "200\n"
     ]
    }
   ],
   "source": [
    "policy_id = \"test-policy\"\n",
    "\n",
    "policy = create_policy(policy_id, PROVIDER_MANAGEMENT, default_headers, permissions=[])\n",
    "\n",
    "\n",
    "\"\"\"\n",
    "example with rule:\n",
    "\n",
    "allowed_policy_region = \"pl\"\n",
    "allowed_region_rule = {\n",
    "    \"action\": \"use\", \n",
    "    \"constraint\": { \n",
    "        \"@type\": \"AtomicConstraint\", \n",
    "        \"leftOperand\": \"https://w3id.org/edc/v0.0.1/ns/regionLocation\", \n",
    "        \"operator\": \"odrl:eq\", \n",
    "        \"rightOperand\": allowed_policy_region \n",
    "    }\n",
    "}\n",
    "policy = create_policy(policy_id, PROVIDER_MANAGEMENT, default_headers, permissions=[allowed_region_rule])\n",
    "\"\"\"\n",
    "\n",
    "# expected 200 or 409 (already exists) because the @id is fixed in the example\n",
    "print(policy.status_code)"
   ]
  },
  {
   "cell_type": "markdown",
   "metadata": {},
   "source": [
    "Contract definition - Links an asset with a policy"
   ]
  },
  {
   "cell_type": "code",
   "execution_count": 9,
   "metadata": {},
   "outputs": [
    {
     "data": {
      "text/plain": [
       "200"
      ]
     },
     "execution_count": 9,
     "metadata": {},
     "output_type": "execute_result"
    }
   ],
   "source": [
    "contract_definition_id = \"test-contract-definition\"\n",
    "\n",
    "contract_definition = create_contract_definition(contract_definition_id, PROVIDER_MANAGEMENT, asset_id, policy_id, default_headers)\n",
    "\n",
    "# expected 200 or 409 (already exists) because the @id is fixed in the example\n",
    "contract_definition.status_code"
   ]
  },
  {
   "cell_type": "markdown",
   "metadata": {},
   "source": [
    "### Working on consumer side\n",
    "\n",
    "Fetch catalog, negotiate and perform transfer"
   ]
  },
  {
   "cell_type": "code",
   "execution_count": 21,
   "metadata": {},
   "outputs": [
    {
     "name": "stdout",
     "output_type": "stream",
     "text": [
      "1. Catalog fetch: 200\n",
      "[{'@id': 'c0de7047-9f49-415d-bb62-0b4f22991c65', '@type': 'dcat:Catalog', 'dcat:dataset': [{'@id': 'asset-workshop-demo-by-api', '@type': 'dcat:Dataset', 'odrl:hasPolicy': [{'@id': 'ZGVmYXVsdA==:YXNzZXQtd29ya3Nob3AtZGVtby1ieS1hcGk=:N2E3ZDM0NTktOWFjOC00YzE1LWEwODEtYTZlYWI3ZDljYWQ4', '@type': 'odrl:Offer', 'odrl:permission': [], 'odrl:prohibition': [], 'odrl:obligation': []}, {'@id': 'dGVzdC1jZC0wMDE=:YXNzZXQtd29ya3Nob3AtZGVtby1ieS1hcGk=:NjIzN2NkYzUtMThhZC00ZjY3LWIzNDItZmY5MWU3YWFhZTc3', '@type': 'odrl:Offer', 'odrl:permission': [], 'odrl:prohibition': [], 'odrl:obligation': []}], 'dcat:distribution': [{'@type': 'dcat:Distribution', 'dct:format': {'@id': 'HttpData-PULL'}, 'dcat:accessService': {'@id': 'f78a41a9-5ea4-48eb-a2c1-7bb81b079bb7', '@type': 'dcat:DataService'}}, {'@type': 'dcat:Distribution', 'dct:format': {'@id': 'HttpData-PUSH'}, 'dcat:accessService': {'@id': 'f78a41a9-5ea4-48eb-a2c1-7bb81b079bb7', '@type': 'dcat:DataService'}}], 'name': 'test of asset, just to have another one on board', 'id': 'asset-workshop-demo-by-api', 'contenttype': 'application/json'}, {'@id': 'test-asset-data-source-01', '@type': 'dcat:Dataset', 'odrl:hasPolicy': [{'@id': 'ZGVmYXVsdC0y:dGVzdC1hc3NldC1kYXRhLXNvdXJjZS0wMQ==:NDkwZjkzNmEtODVlOC00M2ZmLTk1ZTItYmI5ZDQ3ODllMmQz', '@type': 'odrl:Offer', 'odrl:permission': [], 'odrl:prohibition': [], 'odrl:obligation': []}, {'@id': 'c3RhbmRhcmQtdGVzdC1jb250cmFjdC1kZWZpbml0aW9u:dGVzdC1hc3NldC1kYXRhLXNvdXJjZS0wMQ==:YzU4YjQwYmMtZmJiZS00YTU3LTg1OTItZDk0YTRmZGM4ZTE1', '@type': 'odrl:Offer', 'odrl:permission': [], 'odrl:prohibition': [], 'odrl:obligation': []}], 'dcat:distribution': [{'@type': 'dcat:Distribution', 'dct:format': {'@id': 'HttpData-PULL'}, 'dcat:accessService': {'@id': 'f78a41a9-5ea4-48eb-a2c1-7bb81b079bb7', '@type': 'dcat:DataService'}}, {'@type': 'dcat:Distribution', 'dct:format': {'@id': 'HttpData-PUSH'}, 'dcat:accessService': {'@id': 'f78a41a9-5ea4-48eb-a2c1-7bb81b079bb7', '@type': 'dcat:DataService'}}], 'proxyPath': 'true', 'version': '', 'name': 'test-asset-data-source-01', 'proxyQueryParams': 'true', 'id': 'test-asset-data-source-01', 'contenttype': 'application/json', 'baseUrl': 'http://data-source:5000/data/'}, {'@id': 'test-asset-data-source-02', '@type': 'dcat:Dataset', 'odrl:hasPolicy': {'@id': 'ZGVmYXVsdC0y:dGVzdC1hc3NldC1kYXRhLXNvdXJjZS0wMg==:NDc3NTRmZTQtNDMzNC00ZjhlLWE1MDQtODgzMmRlN2I2ZmY0', '@type': 'odrl:Offer', 'odrl:permission': [], 'odrl:prohibition': [], 'odrl:obligation': []}, 'dcat:distribution': [{'@type': 'dcat:Distribution', 'dct:format': {'@id': 'HttpData-PULL'}, 'dcat:accessService': {'@id': 'f78a41a9-5ea4-48eb-a2c1-7bb81b079bb7', '@type': 'dcat:DataService'}}, {'@type': 'dcat:Distribution', 'dct:format': {'@id': 'HttpData-PUSH'}, 'dcat:accessService': {'@id': 'f78a41a9-5ea4-48eb-a2c1-7bb81b079bb7', '@type': 'dcat:DataService'}}], 'proxyPath': 'true', 'version': '', 'name': 'test-asset-data-source-02', 'proxyQueryParams': 'true', 'id': 'test-asset-data-source-02', 'contenttype': 'application/json', 'baseUrl': 'http://data-source:5000/data/'}, {'@id': 'intervaled-asset', '@type': 'dcat:Dataset', 'odrl:hasPolicy': {'@id': 'dGltZWQtaW50ZXJ2YWwtY29udC1kZWYtMg==:aW50ZXJ2YWxlZC1hc3NldA==:OTNmYjFhNzEtNWY1Ny00ZWU1LTlkZGMtNTllMWQ4YTdhOTVm', '@type': 'odrl:Offer', 'odrl:permission': {'odrl:action': {'@id': 'odrl:use'}, 'odrl:constraint': [{'odrl:leftOperand': {'@id': 'edc:timeInterval'}, 'odrl:operator': {'@id': 'odrl:gteq'}, 'odrl:rightOperand': '2024-11-18T09:00:00.000Z'}, {'odrl:leftOperand': {'@id': 'edc:timeInterval'}, 'odrl:operator': {'@id': 'odrl:lteq'}, 'odrl:rightOperand': '2024-11-18T10:00:00.000Z'}]}, 'odrl:prohibition': [], 'odrl:obligation': []}, 'dcat:distribution': [{'@type': 'dcat:Distribution', 'dct:format': {'@id': 'HttpData-PULL'}, 'dcat:accessService': {'@id': 'f78a41a9-5ea4-48eb-a2c1-7bb81b079bb7', '@type': 'dcat:DataService'}}, {'@type': 'dcat:Distribution', 'dct:format': {'@id': 'HttpData-PUSH'}, 'dcat:accessService': {'@id': 'f78a41a9-5ea4-48eb-a2c1-7bb81b079bb7', '@type': 'dcat:DataService'}}], 'proxyPath': 'true', 'version': '', 'name': 'intervaled-asset', 'proxyQueryParams': 'true', 'id': 'intervaled-asset', 'contenttype': 'application/json', 'baseUrl': 'http://data-source:5000/data/'}, {'@id': 'intervaled-asset-02', '@type': 'dcat:Dataset', 'odrl:hasPolicy': {'@id': 'ZGVmYXVsdC0y:aW50ZXJ2YWxlZC1hc3NldC0wMg==:MWUyNjEwNDYtYjE5MC00ZjllLThhOWQtMmRlZjc5MDg0YjBl', '@type': 'odrl:Offer', 'odrl:permission': [], 'odrl:prohibition': [], 'odrl:obligation': []}, 'dcat:distribution': [{'@type': 'dcat:Distribution', 'dct:format': {'@id': 'HttpData-PULL'}, 'dcat:accessService': {'@id': 'f78a41a9-5ea4-48eb-a2c1-7bb81b079bb7', '@type': 'dcat:DataService'}}, {'@type': 'dcat:Distribution', 'dct:format': {'@id': 'HttpData-PUSH'}, 'dcat:accessService': {'@id': 'f78a41a9-5ea4-48eb-a2c1-7bb81b079bb7', '@type': 'dcat:DataService'}}], 'proxyPath': 'true', 'version': '', 'name': 'intervaled-asset-02', 'proxyQueryParams': 'true', 'id': 'intervaled-asset-02', 'contenttype': 'application/json', 'baseUrl': 'http://data-source:5000/data/'}, {'@id': 'test-policies-asset-special', '@type': 'dcat:Dataset', 'odrl:hasPolicy': {'@id': 'Y2RkZA==:dGVzdC1wb2xpY2llcy1hc3NldC1zcGVjaWFs:YTY4ZjVmNjctNTJhMS00NGMzLTk0ZTktMGU2Y2ZjZDQyZmQ1', '@type': 'odrl:Offer', 'odrl:permission': {'odrl:action': {'@id': 'odrl:use'}, 'odrl:constraint': {'odrl:leftOperand': {'@id': 'edc:purpose'}, 'odrl:operator': {'@id': 'odrl:eq'}, 'odrl:rightOperand': 'marketing'}}, 'odrl:prohibition': [], 'odrl:obligation': []}, 'dcat:distribution': [{'@type': 'dcat:Distribution', 'dct:format': {'@id': 'HttpData-PULL'}, 'dcat:accessService': {'@id': 'f78a41a9-5ea4-48eb-a2c1-7bb81b079bb7', '@type': 'dcat:DataService'}}, {'@type': 'dcat:Distribution', 'dct:format': {'@id': 'HttpData-PUSH'}, 'dcat:accessService': {'@id': 'f78a41a9-5ea4-48eb-a2c1-7bb81b079bb7', '@type': 'dcat:DataService'}}], 'proxyPath': 'true', 'version': '', 'name': 'test-policies-asset-special', 'proxyQueryParams': 'true', 'id': 'test-policies-asset-special', 'contenttype': 'application/json', 'baseUrl': 'http://data-source:5000/data/'}, {'@id': 'Large asset', '@type': 'dcat:Dataset', 'odrl:hasPolicy': {'@id': 'bGFyZ2UtYXNzZXQtZGVm:TGFyZ2UgYXNzZXQ=:M2ZmZmNiZTQtZDhiMC00NmYzLTgxYmUtOWUzNDcyMTRmOTFl', '@type': 'odrl:Offer', 'odrl:permission': [], 'odrl:prohibition': [], 'odrl:obligation': []}, 'dcat:distribution': [{'@type': 'dcat:Distribution', 'dct:format': {'@id': 'HttpData-PULL'}, 'dcat:accessService': {'@id': 'f78a41a9-5ea4-48eb-a2c1-7bb81b079bb7', '@type': 'dcat:DataService'}}, {'@type': 'dcat:Distribution', 'dct:format': {'@id': 'HttpData-PUSH'}, 'dcat:accessService': {'@id': 'f78a41a9-5ea4-48eb-a2c1-7bb81b079bb7', '@type': 'dcat:DataService'}}], 'proxyPath': 'true', 'version': '', 'name': 'Large asset', 'proxyQueryParams': 'true', 'id': 'Large asset', 'contenttype': 'application/json', 'baseUrl': ' https://sensor-things-api-sensor-things-api.apps.dcw1.paas.psnc.pl/BerlinLakesWaterLevel/api/v1.0/Observations/ '}, {'@id': 'data-with', '@type': 'dcat:Dataset', 'odrl:hasPolicy': {'@id': 'dHJhaWxpbmctY2Q=:ZGF0YS13aXRo:YTRkODFiZjAtZThhYy00M2UwLTg0MzgtOTNjNTA5ODk2YThl', '@type': 'odrl:Offer', 'odrl:permission': [], 'odrl:prohibition': [], 'odrl:obligation': []}, 'dcat:distribution': [{'@type': 'dcat:Distribution', 'dct:format': {'@id': 'HttpData-PULL'}, 'dcat:accessService': {'@id': 'f78a41a9-5ea4-48eb-a2c1-7bb81b079bb7', '@type': 'dcat:DataService'}}, {'@type': 'dcat:Distribution', 'dct:format': {'@id': 'HttpData-PUSH'}, 'dcat:accessService': {'@id': 'f78a41a9-5ea4-48eb-a2c1-7bb81b079bb7', '@type': 'dcat:DataService'}}], 'proxyPath': 'true', 'version': '', 'name': 'data-with', 'proxyQueryParams': 'true', 'id': 'data-with', 'contenttype': 'application/json', 'baseUrl': 'http://data-source:5000/data/'}, {'@id': 'data-without', '@type': 'dcat:Dataset', 'odrl:hasPolicy': [{'@id': 'dHJhaWxpbmctY2QtMDI=:ZGF0YS13aXRob3V0:MzhkYzU5ZmUtM2ViNS00NzhlLWEwMTEtNjIwZmU3YTU2YTll', '@type': 'odrl:Offer', 'odrl:permission': [], 'odrl:prohibition': [], 'odrl:obligation': []}, {'@id': 'dHJhaWxpbmctY2Q=:ZGF0YS13aXRob3V0:ZjIxMGE3OTItNjZiZC00N2FlLWJlOWYtN2QzY2Q2ZmNlNDEw', '@type': 'odrl:Offer', 'odrl:permission': [], 'odrl:prohibition': [], 'odrl:obligation': []}], 'dcat:distribution': [{'@type': 'dcat:Distribution', 'dct:format': {'@id': 'HttpData-PULL'}, 'dcat:accessService': {'@id': 'f78a41a9-5ea4-48eb-a2c1-7bb81b079bb7', '@type': 'dcat:DataService'}}, {'@type': 'dcat:Distribution', 'dct:format': {'@id': 'HttpData-PUSH'}, 'dcat:accessService': {'@id': 'f78a41a9-5ea4-48eb-a2c1-7bb81b079bb7', '@type': 'dcat:DataService'}}], 'proxyPath': 'true', 'version': '', 'name': 'data-without', 'proxyQueryParams': 'true', 'id': 'data-without', 'contenttype': 'application/json', 'baseUrl': 'http://data-source:5000/data'}, {'@id': 'last-local-test-01', '@type': 'dcat:Dataset', 'odrl:hasPolicy': {'@id': 'bGFzdC1jZA==:bGFzdC1sb2NhbC10ZXN0LTAx:YTA4ZjRlYzQtNWUzMS00ZGE5LWEwNzQtNzdkOWFjMWQ4NzA5', '@type': 'odrl:Offer', 'odrl:permission': {'odrl:action': {'@id': 'odrl:use'}, 'odrl:constraint': [{'odrl:leftOperand': {'@id': 'edc:timeInterval'}, 'odrl:operator': {'@id': 'odrl:gteq'}, 'odrl:rightOperand': '2024-11-26T10:28:40.000Z'}, {'odrl:leftOperand': {'@id': 'edc:timeInterval'}, 'odrl:operator': {'@id': 'odrl:lteq'}, 'odrl:rightOperand': '2024-11-26T10:31:41.000Z'}]}, 'odrl:prohibition': [], 'odrl:obligation': []}, 'dcat:distribution': [{'@type': 'dcat:Distribution', 'dct:format': {'@id': 'HttpData-PULL'}, 'dcat:accessService': {'@id': 'f78a41a9-5ea4-48eb-a2c1-7bb81b079bb7', '@type': 'dcat:DataService'}}, {'@type': 'dcat:Distribution', 'dct:format': {'@id': 'HttpData-PUSH'}, 'dcat:accessService': {'@id': 'f78a41a9-5ea4-48eb-a2c1-7bb81b079bb7', '@type': 'dcat:DataService'}}], 'proxyPath': 'true', 'version': '', 'name': 'last-local-test-01', 'proxyQueryParams': 'true', 'id': 'last-local-test-01', 'contenttype': 'application/json', 'baseUrl': 'http://data-source:5000/data'}, {'@id': 'registration-service-notebook-example-asset', '@type': 'dcat:Dataset', 'odrl:hasPolicy': {'@id': 'cmVnaXN0cmF0aW9uLXNlcnZpY2Utbm90ZWJvb2stZXhhbXBsZS1jb250cmFjdC1kZWZpbml0aW9u:cmVnaXN0cmF0aW9uLXNlcnZpY2Utbm90ZWJvb2stZXhhbXBsZS1hc3NldA==:NTczNzBlZTctYzMyZC00OGIwLTlhMDMtNzA4N2IxODIyYzc4', '@type': 'odrl:Offer', 'odrl:permission': {'odrl:action': {'@id': 'odrl:use'}, 'odrl:constraint': {'odrl:leftOperand': {'@id': 'edc:regionLocation'}, 'odrl:operator': {'@id': 'odrl:eq'}, 'odrl:rightOperand': 'pl'}}, 'odrl:prohibition': [], 'odrl:obligation': []}, 'dcat:distribution': [{'@type': 'dcat:Distribution', 'dct:format': {'@id': 'HttpData-PULL'}, 'dcat:accessService': {'@id': 'f78a41a9-5ea4-48eb-a2c1-7bb81b079bb7', '@type': 'dcat:DataService'}}, {'@type': 'dcat:Distribution', 'dct:format': {'@id': 'HttpData-PUSH'}, 'dcat:accessService': {'@id': 'f78a41a9-5ea4-48eb-a2c1-7bb81b079bb7', '@type': 'dcat:DataService'}}], 'name': 'registration-service-notebook-example-asset', 'id': 'registration-service-notebook-example-asset', 'contenttype': 'application/json'}, {'@id': 'csv-test', '@type': 'dcat:Dataset', 'odrl:hasPolicy': {'@id': 'bmV3LWRlZg==:Y3N2LXRlc3Q=:OTdhMjdjNWQtOTUyNi00YjAyLTgzOWEtMzc3MGQ4MGJjMDBj', '@type': 'odrl:Offer', 'odrl:permission': [], 'odrl:prohibition': [], 'odrl:obligation': []}, 'dcat:distribution': [{'@type': 'dcat:Distribution', 'dct:format': {'@id': 'HttpData-PULL'}, 'dcat:accessService': {'@id': 'f78a41a9-5ea4-48eb-a2c1-7bb81b079bb7', '@type': 'dcat:DataService'}}, {'@type': 'dcat:Distribution', 'dct:format': {'@id': 'HttpData-PUSH'}, 'dcat:accessService': {'@id': 'f78a41a9-5ea4-48eb-a2c1-7bb81b079bb7', '@type': 'dcat:DataService'}}], 'proxyPath': 'true', 'version': '', 'name': 'csv-test', 'proxyQueryParams': 'true', 'id': 'csv-test', 'contenttype': 'text/csv', 'baseUrl': 'http://data-source:8000/formats/csv'}, {'@id': 'csv-fixed-test-02', '@type': 'dcat:Dataset', 'odrl:hasPolicy': {'@id': 'Y3N2LWZpeGVkLWNkLTAy:Y3N2LWZpeGVkLXRlc3QtMDI=:ZDc4ZDYxMTItMjJiYi00ZDM1LThhNjItYWY0MTZiZWRiZWJk', '@type': 'odrl:Offer', 'odrl:permission': [], 'odrl:prohibition': [], 'odrl:obligation': []}, 'dcat:distribution': [{'@type': 'dcat:Distribution', 'dct:format': {'@id': 'HttpData-PULL'}, 'dcat:accessService': {'@id': 'f78a41a9-5ea4-48eb-a2c1-7bb81b079bb7', '@type': 'dcat:DataService'}}, {'@type': 'dcat:Distribution', 'dct:format': {'@id': 'HttpData-PUSH'}, 'dcat:accessService': {'@id': 'f78a41a9-5ea4-48eb-a2c1-7bb81b079bb7', '@type': 'dcat:DataService'}}], 'proxyPath': 'true', 'version': '', 'name': 'csv-fixed-test-02', 'proxyQueryParams': 'true', 'id': 'csv-fixed-test-02', 'contenttype': 'text/csv', 'baseUrl': 'http://data-source:5000/formats/csv'}, {'@id': 'formats-endpoint', '@type': 'dcat:Dataset', 'odrl:hasPolicy': {'@id': 'Zm9ybWF0cy1jZC0wMQ==:Zm9ybWF0cy1lbmRwb2ludA==:MGNhZDZlM2UtYzIzMS00NDllLTg1ZWItZmI1YTI2MWZiOGYx', '@type': 'odrl:Offer', 'odrl:permission': [], 'odrl:prohibition': [], 'odrl:obligation': []}, 'dcat:distribution': [{'@type': 'dcat:Distribution', 'dct:format': {'@id': 'HttpData-PULL'}, 'dcat:accessService': {'@id': 'f78a41a9-5ea4-48eb-a2c1-7bb81b079bb7', '@type': 'dcat:DataService'}}, {'@type': 'dcat:Distribution', 'dct:format': {'@id': 'HttpData-PUSH'}, 'dcat:accessService': {'@id': 'f78a41a9-5ea4-48eb-a2c1-7bb81b079bb7', '@type': 'dcat:DataService'}}], 'proxyPath': 'true', 'version': '', 'name': 'formats-endpoint', 'proxyQueryParams': 'true', 'id': 'formats-endpoint', 'contenttype': 'api', 'baseUrl': 'http://data-source:5000/formats'}, {'@id': 'test-asset', '@type': 'dcat:Dataset', 'odrl:hasPolicy': [{'@id': 'dGVzdC1jb250cmFjdC1kZWZpbml0aW9uLTUwMA==:dGVzdC1hc3NldA==:ZmQ2YzhhOTgtMTBlMi00ZGYzLWJiMTAtMGJjNDUyODI5ZjJm', '@type': 'odrl:Offer', 'odrl:permission': [], 'odrl:prohibition': [], 'odrl:obligation': []}, {'@id': 'dGVzdC1jb250cmFjdC1kZWZpbml0aW9u:dGVzdC1hc3NldA==:NGM4ODczYjctMDZkMC00ZmE4LWE0NzgtNzM5N2ExZjc1M2Q1', '@type': 'odrl:Offer', 'odrl:permission': [], 'odrl:prohibition': [], 'odrl:obligation': []}], 'dcat:distribution': [{'@type': 'dcat:Distribution', 'dct:format': {'@id': 'HttpData-PULL'}, 'dcat:accessService': {'@id': 'f78a41a9-5ea4-48eb-a2c1-7bb81b079bb7', '@type': 'dcat:DataService'}}, {'@type': 'dcat:Distribution', 'dct:format': {'@id': 'HttpData-PUSH'}, 'dcat:accessService': {'@id': 'f78a41a9-5ea4-48eb-a2c1-7bb81b079bb7', '@type': 'dcat:DataService'}}], 'name': 'test-asset', 'id': 'test-asset', 'contenttype': 'application/json'}], 'dcat:distribution': [], 'dcat:service': {'@id': 'f78a41a9-5ea4-48eb-a2c1-7bb81b079bb7', '@type': 'dcat:DataService', 'dcat:endpointDescription': 'dspace:connector', 'dcat:endpointUrl': 'http://provider-connector:19194/protocol', 'dcat:endpointURL': 'http://provider-connector:19194/protocol'}, 'dspace:participantId': 'provider', 'originator': 'http://provider-connector:19194/protocol', '@context': {'@vocab': 'https://w3id.org/edc/v0.0.1/ns/', 'edc': 'https://w3id.org/edc/v0.0.1/ns/', 'odrl': 'http://www.w3.org/ns/odrl/2/', 'dcat': 'http://www.w3.org/ns/dcat#', 'dct': 'http://purl.org/dc/terms/', 'dspace': 'https://w3id.org/dspace/v0.8/'}}, {'@id': 'd4d4d896-89b5-4f16-aaa5-70cf1a9caf48', '@type': 'dcat:Catalog', 'dcat:dataset': {'@id': 'consumer-asset', '@type': 'dcat:Dataset', 'odrl:hasPolicy': {'@id': 'Y29uc3VtZXItcG9sLWNk:Y29uc3VtZXItYXNzZXQ=:NmU4OTc5NTAtNzMwNy00NjEyLTk0MjMtNGJhYTdkMmQ0ZTAy', '@type': 'odrl:Offer', 'odrl:permission': [], 'odrl:prohibition': [], 'odrl:obligation': []}, 'dcat:distribution': [{'@type': 'dcat:Distribution', 'dct:format': {'@id': 'HttpData-PULL'}, 'dcat:accessService': {'@id': 'b67f88d8-9248-42ca-9651-9afee0b679dd', '@type': 'dcat:DataService'}}, {'@type': 'dcat:Distribution', 'dct:format': {'@id': 'HttpData-PUSH'}, 'dcat:accessService': {'@id': 'b67f88d8-9248-42ca-9651-9afee0b679dd', '@type': 'dcat:DataService'}}], 'proxyPath': 'true', 'version': '', 'name': 'consumer-asset', 'proxyQueryParams': 'true', 'id': 'consumer-asset', 'contenttype': 'application/json', 'baseUrl': 'http://data-source:5000/data'}, 'dcat:distribution': [], 'dcat:service': {'@id': 'b67f88d8-9248-42ca-9651-9afee0b679dd', '@type': 'dcat:DataService', 'dcat:endpointDescription': 'dspace:connector', 'dcat:endpointUrl': 'http://consumer-connector:29194/protocol', 'dcat:endpointURL': 'http://consumer-connector:29194/protocol'}, 'dspace:participantId': 'consumer', 'originator': 'http://consumer-connector:29194/protocol', '@context': {'@vocab': 'https://w3id.org/edc/v0.0.1/ns/', 'edc': 'https://w3id.org/edc/v0.0.1/ns/', 'odrl': 'http://www.w3.org/ns/odrl/2/', 'dcat': 'http://www.w3.org/ns/dcat#', 'dct': 'http://purl.org/dc/terms/', 'dspace': 'https://w3id.org/dspace/v0.8/'}}]\n",
      "dGVzdC1jb250cmFjdC1kZWZpbml0aW9uLTUwMA==:dGVzdC1hc3NldA==:ZmQ2YzhhOTgtMTBlMi00ZGYzLWJiMTAtMGJjNDUyODI5ZjJm\n",
      "2. Negotiate a contract: 200\n",
      "{'@type': 'IdResponse', '@id': 'f543ad98-8d39-471c-92ce-dbd534fa11df', 'createdAt': 1738338507637, '@context': {'@vocab': 'https://w3id.org/edc/v0.0.1/ns/', 'edc': 'https://w3id.org/edc/v0.0.1/ns/', 'odrl': 'http://www.w3.org/ns/odrl/2/'}}\n",
      "{'@type': 'ContractNegotiation', '@id': 'f543ad98-8d39-471c-92ce-dbd534fa11df', 'type': 'CONSUMER', 'protocol': 'dataspace-protocol-http', 'state': 'TERMINATED', 'counterPartyId': 'provider', 'counterPartyAddress': 'http://provider-connector:19194/protocol', 'callbackAddresses': [], 'createdAt': 1738338507637, 'errorDetail': '[{\"message\":\"x-api-key not found\",\"type\":\"AuthenticationFailed\",\"path\":null,\"invalidValue\":null}]', '@context': {'@vocab': 'https://w3id.org/edc/v0.0.1/ns/', 'edc': 'https://w3id.org/edc/v0.0.1/ns/', 'odrl': 'http://www.w3.org/ns/odrl/2/'}}\n",
      "\n",
      "3. Transfer an asset: 400\n",
      "[{'message': \"mandatory value 'https://w3id.org/edc/v0.0.1/ns/contractId' is missing or it is blank\", 'type': 'ValidationFailure', 'path': 'https://w3id.org/edc/v0.0.1/ns/contractId', 'invalidValue': None}]\n"
     ]
    }
   ],
   "source": [
    "import time\n",
    "\n",
    "def get_offer_id(fetched_catalog, asset_id):\n",
    "\n",
    "    catalogs_array = []\n",
    "    if isinstance(fetched_catalog, list):\n",
    "        catalogs_array = fetched_catalog\n",
    "    else:\n",
    "        catalogs_array = [fetched_catalog]\n",
    "\n",
    "    offer_id = None\n",
    "    for catalog in catalogs_array:\n",
    "        dcat_dataset = catalog[\"dcat:dataset\"]\n",
    "        dataset_array = []\n",
    "        if isinstance(dcat_dataset, list):\n",
    "            dataset_array = dcat_dataset\n",
    "        else:\n",
    "            dataset_array = [dcat_dataset]\n",
    "\n",
    "        for asset in dataset_array:\n",
    "            if (asset[\"@id\"] == asset_id):\n",
    "                policy = asset[\"odrl:hasPolicy\"]\n",
    "                if isinstance(policy, list):\n",
    "                    return policy[0][\"@id\"]\n",
    "                else:\n",
    "                    return policy[\"@id\"]\n",
    "    return offer_id\n",
    "\n",
    "# 1. fetch catalog\n",
    "fetched_catalog = fetch_catalog(FEDERATED_CATALOG_URL)\n",
    "print(f\"1. Catalog fetch: {fetched_catalog.status_code}\")\n",
    "print(fetched_catalog.json())\n",
    "\n",
    "offer_id = get_offer_id(fetched_catalog.json(), asset_id)\n",
    "print(offer_id)\n",
    "\n",
    "# 2. negotiate a contract\n",
    "negotiated_contract = negotiate_contract(\n",
    "    offer_id, CONSUMER_MANAGEMENT, provider_protocol_internal, [], default_headers)\n",
    "# If there's policy with rules then negotiated_contract = negotiate_contract(offer_id, CONSUMER_MANAGEMENT, provider_protocol_internal, [allowed_region_rule], default_headers)\n",
    "\n",
    "print(f\"2. Negotiate a contract: {negotiated_contract.status_code}\")\n",
    "print(negotiated_contract.json())\n",
    "\n",
    "# wait a little until the negotiation will be finalized (automatic process which basically checks whether policies are met)\n",
    "time.sleep(5)\n",
    "\n",
    "contract_negotiation_id = negotiated_contract.json()[\"@id\"]\n",
    "contract_agreement = get_contract_agreement_id(contract_negotiation_id, CONSUMER_MANAGEMENT, default_headers)\n",
    "print(contract_agreement.json())\n",
    "\n",
    "contract_agreement_id = \"\"\n",
    "if (\"contractAgreementId\" in contract_agreement.json()):\n",
    "    contract_agreement_id = contract_agreement.json()[\"contractAgreementId\"]\n",
    "\n",
    "print(contract_agreement_id)\n",
    "\n",
    "\n",
    "# 3. transfer asset\n",
    "# https://consback-edc-connector.apps.paas-dev.psnc.pl\n",
    "requested_transfer = request_consumer_pull_transfer(\n",
    "    \"provider\",\n",
    "    CONSUMER_MANAGEMENT,\n",
    "    \"http://consumer-backend:4000/edr-endpoint\",\n",
    "    provider_protocol_internal,\n",
    "    contract_agreement_id,\n",
    "    default_headers\n",
    ")\n",
    "\n",
    "print(f\"3. Transfer an asset: {requested_transfer.status_code}\")\n",
    "print(requested_transfer.json())\n"
   ]
  },
  {
   "cell_type": "code",
   "execution_count": 15,
   "metadata": {},
   "outputs": [
    {
     "name": "stdout",
     "output_type": "stream",
     "text": [
      "{'@type': 'ContractNegotiation', '@id': '84da6835-b708-469d-86e6-d7617923877a', 'type': 'CONSUMER', 'protocol': 'dataspace-protocol-http', 'state': 'FINALIZED', 'counterPartyId': 'provider', 'counterPartyAddress': 'http://provider-connector:19194/protocol', 'callbackAddresses': [], 'createdAt': 1738328930142, 'contractAgreementId': 'c720bc68-a296-42e0-9401-7e98d3a3a1d9', '@context': {'@vocab': 'https://w3id.org/edc/v0.0.1/ns/', 'edc': 'https://w3id.org/edc/v0.0.1/ns/', 'odrl': 'http://www.w3.org/ns/odrl/2/'}}\n"
     ]
    }
   ],
   "source": [
    "contract_negotiation_id = negotiated_contract.json()[\"@id\"]\n",
    "contract_agreement = get_contract_agreement_id(contract_negotiation_id, CONSUMER_MANAGEMENT, default_headers)\n",
    "print(contract_agreement.json())"
   ]
  },
  {
   "cell_type": "code",
   "execution_count": 19,
   "metadata": {},
   "outputs": [
    {
     "name": "stdout",
     "output_type": "stream",
     "text": [
      "[{'message': 'Object of type ContractNegotiation with ID=90f79bef-27a9-43b1-a217-af57409d3acf was not found', 'type': 'ObjectNotFound', 'path': None, 'invalidValue': None}]\n"
     ]
    }
   ],
   "source": [
    "contract_negotiation_id = negotiated_contract.json()[\"@id\"]\n",
    "contract_agreement = get_contract_agreement_id(contract_negotiation_id, PROVIDER_MANAGEMENT, default_headers)\n",
    "print(contract_agreement.json())"
   ]
  },
  {
   "cell_type": "code",
   "execution_count": 68,
   "metadata": {},
   "outputs": [
    {
     "data": {
      "text/plain": [
       "{'@type': 'TransferState',\n",
       " 'state': 'STARTED',\n",
       " '@context': {'@vocab': 'https://w3id.org/edc/v0.0.1/ns/',\n",
       "  'edc': 'https://w3id.org/edc/v0.0.1/ns/',\n",
       "  'odrl': 'http://www.w3.org/ns/odrl/2/'}}"
      ]
     },
     "execution_count": 68,
     "metadata": {},
     "output_type": "execute_result"
    }
   ],
   "source": [
    "transfer_id = requested_transfer.json()[\"@id\"]\n",
    "\n",
    "get_transfer_state(CONSUMER_MANAGEMENT, transfer_id)\n",
    "# STARTED state means transfer was done successfully"
   ]
  }
 ],
 "metadata": {
  "kernelspec": {
   "display_name": "usr",
   "language": "python",
   "name": "python3"
  },
  "language_info": {
   "codemirror_mode": {
    "name": "ipython",
    "version": 3
   },
   "file_extension": ".py",
   "mimetype": "text/x-python",
   "name": "python",
   "nbconvert_exporter": "python",
   "pygments_lexer": "ipython3",
   "version": "3.12.3"
  }
 },
 "nbformat": 4,
 "nbformat_minor": 4
}
