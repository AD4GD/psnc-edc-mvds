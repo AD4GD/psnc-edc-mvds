{
 "cells": [
  {
   "cell_type": "markdown",
   "metadata": {},
   "source": [
    "## Connector demo\n",
    "compatible with EDC v0.10.1\n",
    "\n",
    "most examples based on the edc samples: https://github.com/eclipse-edc/Samples"
   ]
  },
  {
   "cell_type": "code",
   "execution_count": 43,
   "metadata": {},
   "outputs": [],
   "source": [
    "import requests\n",
    "import json\n",
    "\n",
    "from dataspace_apis import *"
   ]
  },
  {
   "cell_type": "markdown",
   "metadata": {},
   "source": [
    "### Demo setup"
   ]
  },
  {
   "cell_type": "code",
   "execution_count": 44,
   "metadata": {},
   "outputs": [],
   "source": [
    "\n",
    "IS_LOCALHOST_DEPLOYMENT = True\n",
    "\n",
    "# for paas:\n",
    "#PROVIDER_URL = \"https://ad4gd-provider-edc.dashboard-siba.store\"\n",
    "#CONSUMER_URL = \"https://consumer-edc-connector.apps.dcw1.paas.psnc.pl\"\n",
    "#FEDERATED_CATALOG_BASE_URL = \"https://federatedcatalog-edc-connector.apps.dcw1.paas.psnc.pl\"\n",
    "\n",
    "PROVIDER_URL = \"https://provider-edc-connector.apps.paas-dev.psnc.pl\"\n",
    "CONSUMER_URL = \"https://consumer-edc-connector.apps.paas-dev.psnc.pl\"\n",
    "FEDERATED_CATALOG_BASE_URL = \"https://federatedcatalog-edc-connector.apps.paas-dev.psnc.pl\"\n",
    "\n",
    "#PROVIDER_URL = \"https://provider-edc-connector.apps.dcw1.paas.psnc.pl\"\n",
    "#CONSUMER_URL = \"https://consumer-edc-connector.apps.dcw1.paas.psnc.pl\"\n",
    "#FEDERATED_CATALOG_BASE_URL = \"https://federatedcatalog-edc-connector.apps.dcw1.paas.psnc.pl\"\n",
    "\n",
    "## for local:\n",
    "LOCALHOST = \"http://localhost\"\n",
    "CONSUMER_CONTAINER = \"http://consumer-connector\"\n",
    "PROVIDER_CONTAINER = \"http://provider-connector\"\n",
    "FEDERATED_CATALOG_BASE_CONTAINER = \"http://federated-catalog\"\n",
    "\n",
    "if (IS_LOCALHOST_DEPLOYMENT):\n",
    "    CONSUMER_URL = LOCALHOST\n",
    "    PROVIDER_URL = LOCALHOST\n",
    "    FEDERATED_CATALOG_BASE_URL = LOCALHOST"
   ]
  },
  {
   "cell_type": "code",
   "execution_count": 45,
   "metadata": {},
   "outputs": [],
   "source": [
    "PROVIDER_API = f\"{PROVIDER_URL}/api\"\n",
    "PROVIDER_CONTROL = f\"{PROVIDER_URL}/control\"\n",
    "PROVIDER_MANAGEMENT = f\"{PROVIDER_URL}/management\"\n",
    "PROVIDER_PROTOCOL = f\"{PROVIDER_URL}/protocol\"\n",
    "PROVIDER_PUBLIC = f\"{PROVIDER_URL}/public\"\n",
    "\n",
    "CONSUMER_API = f\"{CONSUMER_URL}/api\"\n",
    "CONSUMER_CONTROL = f\"{CONSUMER_URL}/control\"\n",
    "CONSUMER_MANAGEMENT = f\"{CONSUMER_URL}/management\"\n",
    "CONSUMER_PROTOCOL = f\"{CONSUMER_URL}/protocol\"\n",
    "CONSUMER_PUBLIC = f\"{CONSUMER_URL}/public\"\n",
    "\n",
    "FEDERATED_CATALOG_URL = f\"{FEDERATED_CATALOG_BASE_URL}/catalog\"\n",
    "\n",
    "if (IS_LOCALHOST_DEPLOYMENT):\n",
    "    PROVIDER_API = f\"{PROVIDER_URL}:19191/api\"\n",
    "    PROVIDER_CONTROL = f\"{PROVIDER_URL}:19192/control\"\n",
    "    PROVIDER_MANAGEMENT = f\"{PROVIDER_URL}:19193/management\"\n",
    "    PROVIDER_PROTOCOL = f\"{PROVIDER_URL}:19194/protocol\"\n",
    "    PROVIDER_PUBLIC = f\"{PROVIDER_URL}:19291/public\"\n",
    "\n",
    "    CONSUMER_API = f\"{CONSUMER_URL}:29191/api\"\n",
    "    CONSUMER_CONTROL = f\"{CONSUMER_URL}:29192/control\"\n",
    "    CONSUMER_MANAGEMENT = f\"{CONSUMER_URL}:29193/management\"\n",
    "    CONSUMER_PROTOCOL = f\"{CONSUMER_URL}:29194/protocol\"\n",
    "    CONSUMER_PUBLIC = f\"{CONSUMER_URL}:29291/public\"\n",
    "    \n",
    "    FEDERATED_CATALOG_URL = f\"{FEDERATED_CATALOG_BASE_URL}:9181/catalog\""
   ]
  },
  {
   "cell_type": "code",
   "execution_count": 46,
   "metadata": {},
   "outputs": [],
   "source": [
    "\"\"\"\n",
    "The vars below are useful when working on local deployment\n",
    "(or at least when no routings are specified for connectors)\n",
    "Docker containers have their own localhost, which is not the host\n",
    "machine's localhost.\n",
    "\n",
    "In some requests there is a 'counterPartyAddress' which contains\n",
    "localhost. This one will be solved as containers' internal localhost\n",
    "but not the localhost of the host machine and connectors won't connect\n",
    "to each other.\n",
    "\n",
    "Hence we substitute the \"localhost\" with containers' names (if they\n",
    "contain \"localhost\", otherwise urls remain unchanged).\n",
    "If routings are specified correctly on PaaS, those lines aren't\n",
    "required.\n",
    "\n",
    "We leave those vars here anyway, just not to complicate \n",
    "any of the requests later in the demo. \n",
    "\"\"\"\n",
    "\n",
    "provider_control_internal = PROVIDER_CONTROL.replace(LOCALHOST, PROVIDER_CONTAINER)\n",
    "provider_public_internal = PROVIDER_PUBLIC.replace(LOCALHOST, PROVIDER_CONTAINER)\n",
    "provider_protocol_internal = f\"{PROVIDER_PROTOCOL}\".replace(LOCALHOST, PROVIDER_CONTAINER)\n",
    "\n",
    "default_headers = {\n",
    "    \"Content-Type\": \"application/json\"\n",
    "}"
   ]
  },
  {
   "cell_type": "markdown",
   "metadata": {},
   "source": [
    "### Conn Check"
   ]
  },
  {
   "cell_type": "code",
   "execution_count": 47,
   "metadata": {},
   "outputs": [
    {
     "name": "stdout",
     "output_type": "stream",
     "text": [
      "https://provider-edc-connector.apps.dcw1.paas.psnc.pl/api/check/health/\n",
      "{'componentResults': [{'failure': None, 'component': 'Dataplane Self Registration', 'isHealthy': True}, {'failure': None, 'component': 'BaseRuntime', 'isHealthy': True}], 'isSystemHealthy': True}\n"
     ]
    }
   ],
   "source": [
    "print(f\"{PROVIDER_API}/check/health/\")\n",
    "rp = requests.get(f\"{PROVIDER_API}/check/health/\").json()\n",
    "print(rp)"
   ]
  },
  {
   "cell_type": "code",
   "execution_count": 48,
   "metadata": {},
   "outputs": [
    {
     "name": "stdout",
     "output_type": "stream",
     "text": [
      "https://provider-edc-connector.apps.dcw1.paas.psnc.pl/api/check/health/\n",
      "{'componentResults': [{'failure': None, 'component': 'Dataplane Self Registration', 'isHealthy': True}, {'failure': None, 'component': 'BaseRuntime', 'isHealthy': True}], 'isSystemHealthy': True}\n",
      "\n",
      "https://consumer-edc-connector.apps.dcw1.paas.psnc.pl/api/check/health/\n",
      "{'componentResults': [{'failure': None, 'component': 'Dataplane Self Registration', 'isHealthy': True}, {'failure': None, 'component': 'BaseRuntime', 'isHealthy': True}], 'isSystemHealthy': True}\n",
      "\n",
      "They're Alive!\n"
     ]
    }
   ],
   "source": [
    "print(f\"{PROVIDER_API}/check/health/\")\n",
    "rp = requests.get(f\"{PROVIDER_API}/check/health/\").json()\n",
    "print(rp)\n",
    "\n",
    "print()\n",
    "\n",
    "print(f\"{CONSUMER_API}/check/health/\")\n",
    "rc = requests.get(f\"{CONSUMER_API}/check/health/\").json()\n",
    "print(rc)\n",
    "\n",
    "print()\n",
    "print(\"They're Alive!\")"
   ]
  },
  {
   "cell_type": "markdown",
   "metadata": {},
   "source": [
    "### Populating the provider"
   ]
  },
  {
   "cell_type": "markdown",
   "metadata": {},
   "source": [
    "Not required to run, since connectors self-register data plane on startup. Just provided as an example."
   ]
  },
  {
   "cell_type": "code",
   "execution_count": 7,
   "metadata": {},
   "outputs": [
    {
     "ename": "NameError",
     "evalue": "name 'provider_control_intern' is not defined",
     "output_type": "error",
     "traceback": [
      "\u001b[0;31m---------------------------------------------------------------------------\u001b[0m",
      "\u001b[0;31mNameError\u001b[0m                                 Traceback (most recent call last)",
      "Cell \u001b[0;32mIn[7], line 22\u001b[0m\n\u001b[1;32m      3\u001b[0m     \u001b[38;5;28;01mglobal\u001b[39;00m provider_public_intern\n\u001b[1;32m      5\u001b[0m     \u001b[38;5;28;01mreturn\u001b[39;00m requests\u001b[38;5;241m.\u001b[39mpost(\n\u001b[1;32m      6\u001b[0m             headers\u001b[38;5;241m=\u001b[39mdefault_headers,\n\u001b[1;32m      7\u001b[0m             data\u001b[38;5;241m=\u001b[39mjson\u001b[38;5;241m.\u001b[39mdumps({\n\u001b[0;32m   (...)\u001b[0m\n\u001b[1;32m     19\u001b[0m             url\u001b[38;5;241m=\u001b[39m\u001b[38;5;124mf\u001b[39m\u001b[38;5;124m\"\u001b[39m\u001b[38;5;132;01m{\u001b[39;00mPROVIDER_MANAGEMENT\u001b[38;5;132;01m}\u001b[39;00m\u001b[38;5;124m/v2/dataplanes\u001b[39m\u001b[38;5;124m\"\u001b[39m\n\u001b[1;32m     20\u001b[0m         )\n\u001b[0;32m---> 22\u001b[0m \u001b[43mregister_data_plane_instance_for_provider\u001b[49m\u001b[43m(\u001b[49m\u001b[43m)\u001b[49m\u001b[38;5;241m.\u001b[39mstatus_code\n",
      "Cell \u001b[0;32mIn[7], line 12\u001b[0m, in \u001b[0;36mregister_data_plane_instance_for_provider\u001b[0;34m()\u001b[0m\n\u001b[1;32m      2\u001b[0m \u001b[38;5;28;01mglobal\u001b[39;00m provider_control_intern\n\u001b[1;32m      3\u001b[0m \u001b[38;5;28;01mglobal\u001b[39;00m provider_public_intern\n\u001b[1;32m      5\u001b[0m \u001b[38;5;28;01mreturn\u001b[39;00m requests\u001b[38;5;241m.\u001b[39mpost(\n\u001b[1;32m      6\u001b[0m         headers\u001b[38;5;241m=\u001b[39mdefault_headers,\n\u001b[1;32m      7\u001b[0m         data\u001b[38;5;241m=\u001b[39mjson\u001b[38;5;241m.\u001b[39mdumps({\n\u001b[1;32m      8\u001b[0m             \u001b[38;5;124m\"\u001b[39m\u001b[38;5;124m@context\u001b[39m\u001b[38;5;124m\"\u001b[39m: {\n\u001b[1;32m      9\u001b[0m                 \u001b[38;5;124m\"\u001b[39m\u001b[38;5;124medc\u001b[39m\u001b[38;5;124m\"\u001b[39m: \u001b[38;5;124m\"\u001b[39m\u001b[38;5;124mhttps://w3id.org/edc/v0.0.1/ns/\u001b[39m\u001b[38;5;124m\"\u001b[39m\n\u001b[1;32m     10\u001b[0m             },\n\u001b[1;32m     11\u001b[0m             \u001b[38;5;124m\"\u001b[39m\u001b[38;5;124m@id\u001b[39m\u001b[38;5;124m\"\u001b[39m: \u001b[38;5;124m\"\u001b[39m\u001b[38;5;124mprovider-dataplane\u001b[39m\u001b[38;5;124m\"\u001b[39m,\n\u001b[0;32m---> 12\u001b[0m             \u001b[38;5;124m\"\u001b[39m\u001b[38;5;124murl\u001b[39m\u001b[38;5;124m\"\u001b[39m: \u001b[38;5;124mf\u001b[39m\u001b[38;5;124m\"\u001b[39m\u001b[38;5;132;01m{\u001b[39;00m\u001b[43mprovider_control_intern\u001b[49m\u001b[38;5;132;01m}\u001b[39;00m\u001b[38;5;124m/transfer\u001b[39m\u001b[38;5;124m\"\u001b[39m,\n\u001b[1;32m     13\u001b[0m             \u001b[38;5;124m\"\u001b[39m\u001b[38;5;124mallowedSourceTypes\u001b[39m\u001b[38;5;124m\"\u001b[39m: [ \u001b[38;5;124m\"\u001b[39m\u001b[38;5;124mHttpData\u001b[39m\u001b[38;5;124m\"\u001b[39m ],\n\u001b[1;32m     14\u001b[0m             \u001b[38;5;124m\"\u001b[39m\u001b[38;5;124mallowedDestTypes\u001b[39m\u001b[38;5;124m\"\u001b[39m: [ \u001b[38;5;124m\"\u001b[39m\u001b[38;5;124mHttpProxy\u001b[39m\u001b[38;5;124m\"\u001b[39m, \u001b[38;5;124m\"\u001b[39m\u001b[38;5;124mHttpData\u001b[39m\u001b[38;5;124m\"\u001b[39m ],\n\u001b[1;32m     15\u001b[0m             \u001b[38;5;124m\"\u001b[39m\u001b[38;5;124mproperties\u001b[39m\u001b[38;5;124m\"\u001b[39m: {\n\u001b[1;32m     16\u001b[0m                     \u001b[38;5;124m\"\u001b[39m\u001b[38;5;124mhttps://w3id.org/edc/v0.0.1/ns/publicApiUrl\u001b[39m\u001b[38;5;124m\"\u001b[39m: \u001b[38;5;124mf\u001b[39m\u001b[38;5;124m\"\u001b[39m\u001b[38;5;132;01m{\u001b[39;00mprovider_public_intern\u001b[38;5;132;01m}\u001b[39;00m\u001b[38;5;124m/\u001b[39m\u001b[38;5;124m\"\u001b[39m\n\u001b[1;32m     17\u001b[0m             }\n\u001b[1;32m     18\u001b[0m         }),\n\u001b[1;32m     19\u001b[0m         url\u001b[38;5;241m=\u001b[39m\u001b[38;5;124mf\u001b[39m\u001b[38;5;124m\"\u001b[39m\u001b[38;5;132;01m{\u001b[39;00mPROVIDER_MANAGEMENT\u001b[38;5;132;01m}\u001b[39;00m\u001b[38;5;124m/v2/dataplanes\u001b[39m\u001b[38;5;124m\"\u001b[39m\n\u001b[1;32m     20\u001b[0m     )\n",
      "\u001b[0;31mNameError\u001b[0m: name 'provider_control_intern' is not defined"
     ]
    }
   ],
   "source": [
    "def register_data_plane_instance_for_provider():\n",
    "    global provider_control_intern\n",
    "    global provider_public_intern\n",
    "\n",
    "    return requests.post(\n",
    "            headers=default_headers,\n",
    "            data=json.dumps({\n",
    "                \"@context\": {\n",
    "                    \"edc\": \"https://w3id.org/edc/v0.0.1/ns/\"\n",
    "                },\n",
    "                \"@id\": \"provider-dataplane\",\n",
    "                \"url\": f\"{provider_control_intern}/transfer\",\n",
    "                \"allowedSourceTypes\": [ \"HttpData\" ],\n",
    "                \"allowedDestTypes\": [ \"HttpProxy\", \"HttpData\" ],\n",
    "                \"properties\": {\n",
    "                        \"https://w3id.org/edc/v0.0.1/ns/publicApiUrl\": f\"{provider_public_intern}/\"\n",
    "                }\n",
    "            }),\n",
    "            url=f\"{PROVIDER_MANAGEMENT}/v2/dataplanes\"\n",
    "        )\n",
    "\n",
    "register_data_plane_instance_for_provider().status_code"
   ]
  },
  {
   "cell_type": "code",
   "execution_count": 49,
   "metadata": {},
   "outputs": [
    {
     "data": {
      "text/plain": [
       "409"
      ]
     },
     "execution_count": 49,
     "metadata": {},
     "output_type": "execute_result"
    }
   ],
   "source": [
    "asset_id = \"test-asset\"\n",
    "\n",
    "asset = create_asset(asset_id, PROVIDER_MANAGEMENT, default_headers)\n",
    "\n",
    "# expected 200 or 409 (already exists) because the @id is fixed in the example\n",
    "asset.status_code"
   ]
  },
  {
   "cell_type": "code",
   "execution_count": 50,
   "metadata": {},
   "outputs": [
    {
     "name": "stdout",
     "output_type": "stream",
     "text": [
      "409\n"
     ]
    }
   ],
   "source": [
    "policy_id = \"test-policy\"\n",
    "\n",
    "policy = create_policy(policy_id, PROVIDER_MANAGEMENT, default_headers, permissions=[])\n",
    "\n",
    "\n",
    "\"\"\"\n",
    "example with rule:\n",
    "\n",
    "allowed_policy_region = \"pl\"\n",
    "allowed_region_rule = {\n",
    "    \"action\": \"use\", \n",
    "    \"constraint\": { \n",
    "        \"@type\": \"AtomicConstraint\", \n",
    "        \"leftOperand\": \"https://w3id.org/edc/v0.0.1/ns/regionLocation\", \n",
    "        \"operator\": \"odrl:eq\", \n",
    "        \"rightOperand\": allowed_policy_region \n",
    "    }\n",
    "}\n",
    "policy = create_policy(policy_id, PROVIDER_MANAGEMENT, default_headers, permissions=[allowed_region_rule])\n",
    "\"\"\"\n",
    "\n",
    "# expected 200 or 409 (already exists) because the @id is fixed in the example\n",
    "print(policy.status_code)"
   ]
  },
  {
   "cell_type": "markdown",
   "metadata": {},
   "source": [
    "Contract definition - Links an asset with a policy"
   ]
  },
  {
   "cell_type": "code",
   "execution_count": 51,
   "metadata": {},
   "outputs": [
    {
     "data": {
      "text/plain": [
       "409"
      ]
     },
     "execution_count": 51,
     "metadata": {},
     "output_type": "execute_result"
    }
   ],
   "source": [
    "contract_definition_id = \"test-contract-definition\"\n",
    "\n",
    "contract_definition = create_contract_definition(contract_definition_id, PROVIDER_MANAGEMENT, asset_id, policy_id, default_headers)\n",
    "\n",
    "# expected 200 or 409 (already exists) because the @id is fixed in the example\n",
    "contract_definition.status_code"
   ]
  },
  {
   "cell_type": "markdown",
   "metadata": {},
   "source": [
    "### Working on consumer side\n",
    "\n",
    "Fetch catalog, negotiate and perform transfer"
   ]
  },
  {
   "cell_type": "code",
   "execution_count": 55,
   "metadata": {},
   "outputs": [
    {
     "name": "stdout",
     "output_type": "stream",
     "text": [
      "1. Catalog fetch: 200\n",
      "{'@id': '6dacf841-dea3-4d02-8c8f-4ef5618eb8f9', '@type': 'dcat:Catalog', 'dcat:dataset': [{'@id': 'test-dcw1-asset', '@type': 'dcat:Dataset', 'odrl:hasPolicy': [{'@id': 'Mw==:dGVzdC1kY3cxLWFzc2V0:NDcwOTI3NjItMThhMi00NmVkLWJhOTktZTQxM2I5MGIxYTA4', '@type': 'odrl:Offer', 'odrl:permission': [], 'odrl:prohibition': [], 'odrl:obligation': []}, {'@id': 'dGVzdC1kY3cxLWNvbnRyYWN0LWRlZmluaXRpb24=:dGVzdC1kY3cxLWFzc2V0:YTVjMmMxNmEtYjQzYi00NWU1LTgzYWMtMDVlNmFjYmZlMmI1', '@type': 'odrl:Offer', 'odrl:permission': {'odrl:action': {'@id': 'odrl:use'}, 'odrl:constraint': [{'odrl:leftOperand': {'@id': 'edc:timeInterval'}, 'odrl:operator': {'@id': 'odrl:gteq'}, 'odrl:rightOperand': '2025-01-07T13:27:15.000Z'}, {'odrl:leftOperand': {'@id': 'edc:timeInterval'}, 'odrl:operator': {'@id': 'odrl:lteq'}, 'odrl:rightOperand': '2025-01-07T15:27:16.000Z'}]}, 'odrl:prohibition': [], 'odrl:obligation': []}], 'dcat:distribution': [{'@type': 'dcat:Distribution', 'dct:format': {'@id': 'HttpData-PULL'}, 'dcat:accessService': {'@id': 'bc657929-4632-4143-a010-8d09689cb620', '@type': 'dcat:DataService', 'dcat:endpointDescription': 'dspace:connector', 'dcat:endpointUrl': 'https://provider-edc-connector.apps.dcw1.paas.psnc.pl/protocol', 'dcat:endpointURL': 'https://provider-edc-connector.apps.dcw1.paas.psnc.pl/protocol'}}, {'@type': 'dcat:Distribution', 'dct:format': {'@id': 'HttpData-PUSH'}, 'dcat:accessService': {'@id': 'bc657929-4632-4143-a010-8d09689cb620', '@type': 'dcat:DataService', 'dcat:endpointDescription': 'dspace:connector', 'dcat:endpointUrl': 'https://provider-edc-connector.apps.dcw1.paas.psnc.pl/protocol', 'dcat:endpointURL': 'https://provider-edc-connector.apps.dcw1.paas.psnc.pl/protocol'}}], 'proxyPath': 'true', 'version': '', 'name': 'test-dcw1-asset', 'proxyQueryParams': 'true', 'id': 'test-dcw1-asset', 'contenttype': 'application/json', 'baseUrl': 'https://httpbin.org/get'}, {'@id': 'asset-workshop-demo-by-api', '@type': 'dcat:Dataset', 'odrl:hasPolicy': {'@id': 'Mw==:YXNzZXQtd29ya3Nob3AtZGVtby1ieS1hcGk=:NmUxNzljMWMtNjlhOS00ZTlhLThkYjktMTUzYWY1YTIwOGE2', '@type': 'odrl:Offer', 'odrl:permission': [], 'odrl:prohibition': [], 'odrl:obligation': []}, 'dcat:distribution': [{'@type': 'dcat:Distribution', 'dct:format': {'@id': 'HttpData-PULL'}, 'dcat:accessService': {'@id': 'bc657929-4632-4143-a010-8d09689cb620', '@type': 'dcat:DataService', 'dcat:endpointDescription': 'dspace:connector', 'dcat:endpointUrl': 'https://provider-edc-connector.apps.dcw1.paas.psnc.pl/protocol', 'dcat:endpointURL': 'https://provider-edc-connector.apps.dcw1.paas.psnc.pl/protocol'}}, {'@type': 'dcat:Distribution', 'dct:format': {'@id': 'HttpData-PUSH'}, 'dcat:accessService': {'@id': 'bc657929-4632-4143-a010-8d09689cb620', '@type': 'dcat:DataService', 'dcat:endpointDescription': 'dspace:connector', 'dcat:endpointUrl': 'https://provider-edc-connector.apps.dcw1.paas.psnc.pl/protocol', 'dcat:endpointURL': 'https://provider-edc-connector.apps.dcw1.paas.psnc.pl/protocol'}}], 'name': 'test of asset, just to have another one on board', 'id': 'asset-workshop-demo-by-api', 'contenttype': 'application/json'}, {'@id': 'test-asset', '@type': 'dcat:Dataset', 'odrl:hasPolicy': [{'@id': 'dGVzdC1jb250cmFjdC1kZWZpbml0aW9u:dGVzdC1hc3NldA==:MDE1ZDgxNzEtODViOS00MDdkLWExOTEtNGQ1ZGVkMjg3MTky', '@type': 'odrl:Offer', 'odrl:permission': [], 'odrl:prohibition': [], 'odrl:obligation': []}, {'@id': 'Mw==:dGVzdC1hc3NldA==:ZGY0MDJiNjYtYWRiYy00MGUyLWI4NzgtOTM0NmE0NWU2N2Zm', '@type': 'odrl:Offer', 'odrl:permission': [], 'odrl:prohibition': [], 'odrl:obligation': []}], 'dcat:distribution': [{'@type': 'dcat:Distribution', 'dct:format': {'@id': 'HttpData-PULL'}, 'dcat:accessService': {'@id': 'bc657929-4632-4143-a010-8d09689cb620', '@type': 'dcat:DataService', 'dcat:endpointDescription': 'dspace:connector', 'dcat:endpointUrl': 'https://provider-edc-connector.apps.dcw1.paas.psnc.pl/protocol', 'dcat:endpointURL': 'https://provider-edc-connector.apps.dcw1.paas.psnc.pl/protocol'}}, {'@type': 'dcat:Distribution', 'dct:format': {'@id': 'HttpData-PUSH'}, 'dcat:accessService': {'@id': 'bc657929-4632-4143-a010-8d09689cb620', '@type': 'dcat:DataService', 'dcat:endpointDescription': 'dspace:connector', 'dcat:endpointUrl': 'https://provider-edc-connector.apps.dcw1.paas.psnc.pl/protocol', 'dcat:endpointURL': 'https://provider-edc-connector.apps.dcw1.paas.psnc.pl/protocol'}}], 'name': 'test-asset', 'id': 'test-asset', 'contenttype': 'application/json'}], 'dcat:distribution': [], 'dcat:service': {'@id': 'bc657929-4632-4143-a010-8d09689cb620', '@type': 'dcat:DataService', 'dcat:endpointDescription': 'dspace:connector', 'dcat:endpointUrl': 'https://provider-edc-connector.apps.dcw1.paas.psnc.pl/protocol', 'dcat:endpointURL': 'https://provider-edc-connector.apps.dcw1.paas.psnc.pl/protocol'}, 'dspace:participantId': 'provider', '@context': {'dcat': 'http://www.w3.org/ns/dcat#', 'dct': 'http://purl.org/dc/terms/', 'odrl': 'http://www.w3.org/ns/odrl/2/', 'dspace': 'https://w3id.org/dspace/v0.8/', '@vocab': 'https://w3id.org/edc/v0.0.1/ns/', 'edc': 'https://w3id.org/edc/v0.0.1/ns/'}}\n",
      "dGVzdC1jb250cmFjdC1kZWZpbml0aW9u:dGVzdC1hc3NldA==:MDE1ZDgxNzEtODViOS00MDdkLWExOTEtNGQ1ZGVkMjg3MTky\n",
      "2. Negotiate a contract: 200\n",
      "{'@type': 'IdResponse', '@id': '9889bcef-7e16-46fb-9914-c95638e2f04a', 'createdAt': 1737394792155, '@context': {'@vocab': 'https://w3id.org/edc/v0.0.1/ns/', 'edc': 'https://w3id.org/edc/v0.0.1/ns/', 'odrl': 'http://www.w3.org/ns/odrl/2/'}}\n"
     ]
    },
    {
     "data": {
      "text/plain": [
       "'\\nrequested_transfer = request_consumer_pull_transfer(\\n    \"provider\",\\n    CONSUMER_MANAGEMENT,\\n    \"http://consumer-backend:4000/edr-endpoint\",\\n    provider_protocol_internal,\\n    contract_agreement_id,\\n    default_headers\\n)\\n\\nprint(f\"3. Transfer an asset: {requested_transfer.status_code}\")\\nprint(requested_transfer.json())\\n'"
      ]
     },
     "execution_count": 55,
     "metadata": {},
     "output_type": "execute_result"
    }
   ],
   "source": [
    "import time\n",
    "\n",
    "def get_offer_id(fetched_catalog, asset_id):\n",
    "\n",
    "    catalogs_array = []\n",
    "    if isinstance(fetched_catalog, list):\n",
    "        catalogs_array = fetched_catalog\n",
    "    else:\n",
    "        catalogs_array = [fetched_catalog]\n",
    "\n",
    "    offer_id = None\n",
    "    for catalog in catalogs_array:\n",
    "        dcat_dataset = catalog[\"dcat:dataset\"]\n",
    "        dataset_array = []\n",
    "        if isinstance(dcat_dataset, list):\n",
    "            dataset_array = dcat_dataset\n",
    "        else:\n",
    "            dataset_array = [dcat_dataset]\n",
    "\n",
    "        for asset in dataset_array:\n",
    "            if (asset[\"@id\"] == asset_id):\n",
    "                policy = asset[\"odrl:hasPolicy\"]\n",
    "                if isinstance(policy, list):\n",
    "                    return policy[0][\"@id\"]\n",
    "                else:\n",
    "                    return policy[\"@id\"]\n",
    "    return offer_id\n",
    "\n",
    "# 1. fetch catalog\n",
    "fetched_catalog = fetch_catalog(FEDERATED_CATALOG_URL)\n",
    "print(f\"1. Catalog fetch: {fetched_catalog.status_code}\")\n",
    "print(fetched_catalog.json())\n",
    "\n",
    "offer_id = get_offer_id(fetched_catalog.json(), asset_id)\n",
    "print(offer_id)\n",
    "\n",
    "# 2. negotiate a contract\n",
    "negotiated_contract = negotiate_contract(\n",
    "    offer_id, CONSUMER_MANAGEMENT, provider_protocol_internal, [], default_headers)\n",
    "# If there's policy with rules then negotiated_contract = negotiate_contract(offer_id, CONSUMER_MANAGEMENT, provider_protocol_internal, [allowed_region_rule], default_headers)\n",
    "\n",
    "print(f\"2. Negotiate a contract: {negotiated_contract.status_code}\")\n",
    "print(negotiated_contract.json())\n",
    "\n",
    "# wait a little until the negotiation will be finalized (automatic process which basically checks whether policies are met)\n",
    "time.sleep(5)\n",
    "\"\"\"\n",
    "contract_negotiation_id = negotiated_contract.json()[\"@id\"]\n",
    "contract_agreement = get_contract_agreement_id(contract_negotiation_id, CONSUMER_MANAGEMENT, default_headers)\n",
    "print(contract_agreement.json())\n",
    "\n",
    "contract_agreement_id = \"\"\n",
    "if (\"contractAgreementId\" in contract_agreement.json()):\n",
    "    contract_agreement_id = contract_agreement.json()[\"contractAgreementId\"]\n",
    "\n",
    "print(contract_agreement_id)\n",
    "\"\"\"\n",
    "\n",
    "# 3. transfer asset\n",
    "\"\"\"\n",
    "requested_transfer = request_consumer_pull_transfer(\n",
    "    \"provider\",\n",
    "    CONSUMER_MANAGEMENT,\n",
    "    \"http://consumer-backend:4000/edr-endpoint\",\n",
    "    provider_protocol_internal,\n",
    "    contract_agreement_id,\n",
    "    default_headers\n",
    ")\n",
    "\n",
    "print(f\"3. Transfer an asset: {requested_transfer.status_code}\")\n",
    "print(requested_transfer.json())\n",
    "\"\"\""
   ]
  },
  {
   "cell_type": "code",
   "execution_count": 56,
   "metadata": {},
   "outputs": [
    {
     "name": "stdout",
     "output_type": "stream",
     "text": [
      "{'@type': 'ContractNegotiation', '@id': '9889bcef-7e16-46fb-9914-c95638e2f04a', 'type': 'CONSUMER', 'protocol': 'dataspace-protocol-http', 'state': 'FINALIZED', 'counterPartyId': 'provider', 'counterPartyAddress': 'https://provider-edc-connector.apps.dcw1.paas.psnc.pl/protocol', 'callbackAddresses': [], 'createdAt': 1737394792155, 'contractAgreementId': '79300af7-f820-42a7-ac2c-f9adc74571f0', '@context': {'@vocab': 'https://w3id.org/edc/v0.0.1/ns/', 'edc': 'https://w3id.org/edc/v0.0.1/ns/', 'odrl': 'http://www.w3.org/ns/odrl/2/'}}\n"
     ]
    }
   ],
   "source": [
    "contract_negotiation_id = negotiated_contract.json()[\"@id\"]\n",
    "contract_agreement = get_contract_agreement_id(contract_negotiation_id, CONSUMER_MANAGEMENT, default_headers)\n",
    "print(contract_agreement.json())"
   ]
  },
  {
   "cell_type": "code",
   "execution_count": 19,
   "metadata": {},
   "outputs": [
    {
     "name": "stdout",
     "output_type": "stream",
     "text": [
      "[{'message': 'Object of type ContractNegotiation with ID=90f79bef-27a9-43b1-a217-af57409d3acf was not found', 'type': 'ObjectNotFound', 'path': None, 'invalidValue': None}]\n"
     ]
    }
   ],
   "source": [
    "contract_negotiation_id = negotiated_contract.json()[\"@id\"]\n",
    "contract_agreement = get_contract_agreement_id(contract_negotiation_id, PROVIDER_MANAGEMENT, default_headers)\n",
    "print(contract_agreement.json())"
   ]
  },
  {
   "cell_type": "code",
   "execution_count": 68,
   "metadata": {},
   "outputs": [
    {
     "data": {
      "text/plain": [
       "{'@type': 'TransferState',\n",
       " 'state': 'STARTED',\n",
       " '@context': {'@vocab': 'https://w3id.org/edc/v0.0.1/ns/',\n",
       "  'edc': 'https://w3id.org/edc/v0.0.1/ns/',\n",
       "  'odrl': 'http://www.w3.org/ns/odrl/2/'}}"
      ]
     },
     "execution_count": 68,
     "metadata": {},
     "output_type": "execute_result"
    }
   ],
   "source": [
    "transfer_id = requested_transfer.json()[\"@id\"]\n",
    "\n",
    "get_transfer_state(CONSUMER_MANAGEMENT, transfer_id)\n",
    "# STARTED state means transfer was done successfully"
   ]
  }
 ],
 "metadata": {
  "kernelspec": {
   "display_name": "Python 3",
   "language": "python",
   "name": "python3"
  },
  "language_info": {
   "codemirror_mode": {
    "name": "ipython",
    "version": 3
   },
   "file_extension": ".py",
   "mimetype": "text/x-python",
   "name": "python",
   "nbconvert_exporter": "python",
   "pygments_lexer": "ipython3",
   "version": "3.12.3"
  }
 },
 "nbformat": 4,
 "nbformat_minor": 4
}
