{
 "cells": [
  {
   "cell_type": "markdown",
   "metadata": {},
   "source": [
    "# PSNC Connector demo\n",
    "based on https://github.com/eclipse-edc/Samples"
   ]
  },
  {
   "cell_type": "code",
   "execution_count": 7,
   "metadata": {},
   "outputs": [],
   "source": [
    "import requests\n",
    "import json"
   ]
  },
  {
   "cell_type": "markdown",
   "metadata": {},
   "source": [
    "### Demo setup"
   ]
  },
  {
   "cell_type": "code",
   "execution_count": 9,
   "metadata": {},
   "outputs": [],
   "source": [
    "# for paas:\n",
    "\n",
    "PROVIDER_URL = \"https://provider-edc-connector.apps.paas-dev.psnc.pl\"\n",
    "CONSUMER_URL = \"https://consumer-edc-connector.apps.paas-dev.psnc.pl\"\n",
    "\n",
    "default_headers = {\n",
    "    \"Content-Type\": \"application/json\"\n",
    "    ,\"X-API-KEY\": \"fifi-info-zaneta\"\n",
    "}\n",
    "\n",
    "## for local:\n",
    "LOCALHOST = \"http://localhost\"\n",
    "CONSUMER_CONTAINER = \"http://consumer-connector\"\n",
    "PROVIDER_CONTAINER = \"http://provider-connector\"\n",
    "# CONSUMER_URL = LOCALHOST\n",
    "# PROVIDER_URL = LOCALHOST"
   ]
  },
  {
   "cell_type": "code",
   "execution_count": 10,
   "metadata": {},
   "outputs": [],
   "source": [
    "PROVIDER_API = f\"{PROVIDER_URL}/api\"\n",
    "PROVIDER_CONTROL = f\"{PROVIDER_URL}/control\"\n",
    "PROVIDER_MANAGEMENT = f\"{PROVIDER_URL}/management\"\n",
    "PROVIDER_PROTOCOL = f\"{PROVIDER_URL}/protocol\"\n",
    "PROVIDER_PUBLIC = f\"{PROVIDER_URL}/public\"\n",
    "\n",
    "CONSUMER_API = f\"{CONSUMER_URL}/api\"\n",
    "CONSUMER_CONTROL = f\"{CONSUMER_URL}/control\"\n",
    "CONSUMER_MANAGEMENT = f\"{CONSUMER_URL}/management\"\n",
    "CONSUMER_PROTOCOL = f\"{CONSUMER_URL}/protocol\"\n",
    "CONSUMER_PUBLIC = f\"{CONSUMER_URL}/public\"\n",
    "\n",
    "# PROVIDER_API = f\"{PROVIDER_URL}:19191/api\"\n",
    "# PROVIDER_CONTROL = f\"{PROVIDER_URL}:19192/control\"\n",
    "# PROVIDER_MANAGEMENT = f\"{PROVIDER_URL}:19193/management\"\n",
    "# PROVIDER_PROTOCOL = f\"{PROVIDER_URL}:19194/protocol\"\n",
    "# PROVIDER_PUBLIC = f\"{PROVIDER_URL}:19291/public\"\n",
    "\n",
    "# CONSUMER_API = f\"{CONSUMER_URL}:29191/api\"\n",
    "# CONSUMER_CONTROL = f\"{CONSUMER_URL}:29192/control\"\n",
    "# CONSUMER_MANAGEMENT = f\"{CONSUMER_URL}:29193/management\"\n",
    "# CONSUMER_PROTOCOL = f\"{CONSUMER_URL}:29194/protocol\"\n",
    "# CONSUMER_PUBLIC = f\"{CONSUMER_URL}:29291/public\"\n"
   ]
  },
  {
   "cell_type": "code",
   "execution_count": 20,
   "metadata": {},
   "outputs": [],
   "source": [
    "\"\"\"\n",
    "The vars below are useful when working on local deployment\n",
    "(or at least when no routings are specified for connectors)\n",
    "Docker containers have their own localhost, which is not the host\n",
    "machine's localhost.\n",
    "\n",
    "In some requests there is a 'counterPartyAddress' which contains\n",
    "localhost. This one will be solved as containers' internal localhost\n",
    "but not the localhost of the host machine and connectors won't connect\n",
    "to each other.\n",
    "\n",
    "Hence we substitute the \"localhost\" with containers' names (if they\n",
    "contain \"localhost\", otherwise urls remain unchanged).\n",
    "If routings are specified correctly on PaaS, those lines aren't\n",
    "required.\n",
    "\n",
    "We leave those vars here anyway, just not to complicate \n",
    "any of the requests later in the demo. \n",
    "\"\"\"\n",
    "\n",
    "provider_control_intern = PROVIDER_CONTROL.replace(LOCALHOST, PROVIDER_CONTAINER)\n",
    "provider_public_intern = PROVIDER_PUBLIC.replace(LOCALHOST, PROVIDER_CONTAINER)\n",
    "provider_protocol_internal = f\"{PROVIDER_PROTOCOL}\".replace(LOCALHOST, PROVIDER_CONTAINER)\n"
   ]
  },
  {
   "cell_type": "markdown",
   "metadata": {},
   "source": [
    "### Conn Check"
   ]
  },
  {
   "cell_type": "code",
   "execution_count": 13,
   "metadata": {},
   "outputs": [
    {
     "name": "stdout",
     "output_type": "stream",
     "text": [
      "https://provider-edc-connector.apps.paas-dev.psnc.pl/api/check/health/\n",
      "{'componentResults': [{'failure': None, 'component': None, 'isHealthy': True}], 'isSystemHealthy': True}\n",
      "\n",
      "https://consumer-edc-connector.apps.paas-dev.psnc.pl/api/check/health/\n",
      "{'componentResults': [{'failure': None, 'component': None, 'isHealthy': True}], 'isSystemHealthy': True}\n",
      "\n",
      "They're Alive!\n"
     ]
    }
   ],
   "source": [
    "print(f\"{PROVIDER_API}/check/health/\")\n",
    "rp = requests.get(f\"{PROVIDER_API}/check/health/\").json()\n",
    "print(rp)\n",
    "\n",
    "print()\n",
    "\n",
    "print(f\"{CONSUMER_API}/check/health/\")\n",
    "rc = requests.get(f\"{CONSUMER_API}/check/health/\").json()\n",
    "print(rc)\n",
    "\n",
    "print()\n",
    "print(\"They're Alive!\")"
   ]
  },
  {
   "cell_type": "markdown",
   "metadata": {},
   "source": [
    "### Populating the provider"
   ]
  },
  {
   "cell_type": "code",
   "execution_count": 14,
   "metadata": {},
   "outputs": [
    {
     "data": {
      "text/plain": [
       "200"
      ]
     },
     "execution_count": 14,
     "metadata": {},
     "output_type": "execute_result"
    }
   ],
   "source": [
    "def register_data_plane_instance_for_provider():\n",
    "    global provider_control_intern\n",
    "    global provider_public_intern\n",
    "\n",
    "    return requests.post(\n",
    "            headers=default_headers,\n",
    "            data=json.dumps({\n",
    "                \"@context\": {\n",
    "                    \"edc\": \"https://w3id.org/edc/v0.0.1/ns/\"\n",
    "                },\n",
    "                \"@id\": \"provider-dataplane\",\n",
    "                \"url\": f\"{provider_control_intern}/transfer\",\n",
    "                \"allowedSourceTypes\": [ \"HttpData\" ],\n",
    "                \"allowedDestTypes\": [ \"HttpProxy\", \"HttpData\" ],\n",
    "                \"properties\": {\n",
    "                        \"https://w3id.org/edc/v0.0.1/ns/publicApiUrl\": f\"{provider_public_intern}/\"\n",
    "                }\n",
    "            }),\n",
    "            url=f\"{PROVIDER_MANAGEMENT}/v2/dataplanes\"\n",
    "        )\n",
    "\n",
    "\"\"\"\n",
    "better execute it once on your connector, if you don't\n",
    "know what you're doing it for. I don't, but it's apparently\n",
    "necessairy and overusing it may cause appearing unexpected\n",
    "contract offers for exapmple.\n",
    "\n",
    "It's not harmful at all, just has the potential to confuse the dev.\n",
    "\"\"\"\n",
    "\n",
    "register_data_plane_instance_for_provider().status_code"
   ]
  },
  {
   "cell_type": "code",
   "execution_count": 17,
   "metadata": {},
   "outputs": [
    {
     "data": {
      "text/plain": [
       "409"
      ]
     },
     "execution_count": 17,
     "metadata": {},
     "output_type": "execute_result"
    }
   ],
   "source": [
    "create_an_asset_on_the_provider_side = requests.post(\n",
    "            headers=default_headers,\n",
    "            data=json.dumps({\n",
    "                \"@context\": {\n",
    "                    \"edc\": \"https://w3id.org/edc/v0.0.1/ns/\"\n",
    "                },\n",
    "                \"@id\": \"asset-workshop-demo-by-api\",\n",
    "                \"properties\": {\n",
    "                    \"name\": \"test of asset, just to have another one on board\",\n",
    "                    \"contenttype\": \"application/json\"\n",
    "                    },\n",
    "                \"dataAddress\": {\n",
    "                    \"name\": \"Test asset\",\n",
    "                    \"baseUrl\": \"https://jsonplaceholder.typicode.com/users\",\n",
    "                    \"type\": \"HttpData\"\n",
    "                    }\n",
    "                }),\n",
    "            url=f\"{PROVIDER_MANAGEMENT}/v3/assets\"\n",
    "            )\n",
    "\n",
    "# expected 200 or 409 (already exists) because the @id is fixed in the example\n",
    "create_an_asset_on_the_provider_side.status_code"
   ]
  },
  {
   "cell_type": "code",
   "execution_count": 18,
   "metadata": {},
   "outputs": [
    {
     "data": {
      "text/plain": [
       "409"
      ]
     },
     "execution_count": 18,
     "metadata": {},
     "output_type": "execute_result"
    }
   ],
   "source": [
    "create_policy_on_the_provider = requests.post(\n",
    "            headers=default_headers,\n",
    "            data=json.dumps({\n",
    "                \"@context\": {\n",
    "                    \"edc\": \"https://w3id.org/edc/v0.0.1/ns/\",\n",
    "                    \"odrl\": \"http://www.w3.org/ns/odrl/2/\"\n",
    "                },\n",
    "                \"@id\": \"aPolicy\",\n",
    "                \"policy\": {\n",
    "                    \"@type\": \"set\",\n",
    "                    \"odrl:permission\": [],\n",
    "                    \"odrl:prohibition\": [],\n",
    "                    \"odrl:obligation\": []\n",
    "                }\n",
    "                }),\n",
    "            url=f\"{PROVIDER_MANAGEMENT}/v2/policydefinitions\"\n",
    "        )\n",
    "\n",
    "# expected 200 or 409 (already exists) because the @id is fixed in the example\n",
    "create_policy_on_the_provider.status_code"
   ]
  },
  {
   "cell_type": "code",
   "execution_count": 19,
   "metadata": {},
   "outputs": [
    {
     "data": {
      "text/plain": [
       "409"
      ]
     },
     "execution_count": 19,
     "metadata": {},
     "output_type": "execute_result"
    }
   ],
   "source": [
    "create_a_contract_definition_on_provider = requests.post(\n",
    "            headers=default_headers,\n",
    "            data=json.dumps({\n",
    "                \"@context\": {\n",
    "                    \"edc\": \"https://w3id.org/edc/v0.0.1/ns/\"\n",
    "                },\n",
    "                \"@id\": \"3\",\n",
    "                \"accessPolicyId\": \"aPolicy\",\n",
    "                \"contractPolicyId\": \"aPolicy\",\n",
    "                \"assetsSelector\": []\n",
    "                }),\n",
    "            url=f\"{PROVIDER_MANAGEMENT}/v2/contractdefinitions\"\n",
    "        )\n",
    "\n",
    "# expected 200 or 409 (already exists) because the @id is fixed in the example\n",
    "create_a_contract_definition_on_provider.status_code"
   ]
  },
  {
   "cell_type": "markdown",
   "metadata": {},
   "source": [
    "### Working on consumer side"
   ]
  },
  {
   "cell_type": "code",
   "execution_count": 21,
   "metadata": {},
   "outputs": [
    {
     "data": {
      "text/plain": [
       "200"
      ]
     },
     "execution_count": 21,
     "metadata": {},
     "output_type": "execute_result"
    }
   ],
   "source": [
    "fetch_catalog_on_consumer_side = requests.post(\n",
    "            headers=default_headers,\n",
    "            data=json.dumps({\n",
    "                \"@context\": {\n",
    "                    \"edc\": \"https://w3id.org/edc/v0.0.1/ns/\"\n",
    "                },\n",
    "                \"@type\": \"CatalogRequest\",\n",
    "                \"counterPartyAddress\": provider_protocol_internal,\n",
    "                \"protocol\": \"dataspace-protocol-http\"\n",
    "                }),\n",
    "            url=f\"{CONSUMER_MANAGEMENT}/v2/catalog/request\"\n",
    "        )\n",
    "\n",
    "fetch_catalog_on_consumer_side.status_code"
   ]
  },
  {
   "cell_type": "code",
   "execution_count": null,
   "metadata": {},
   "outputs": [],
   "source": [
    "# get_dataplanes_or_sth = requests.get(\n",
    "#     headers=default_headers,\n",
    "#     url=f\"{PROVIDER_MANAGEMENT}/v2/dataplanes\"\n",
    "# )\n",
    "# get_dataplanes_or_sth.json()"
   ]
  },
  {
   "cell_type": "code",
   "execution_count": 22,
   "metadata": {},
   "outputs": [
    {
     "data": {
      "text/plain": [
       "{'@id': '91a822a9-2201-4d5c-8be9-273ec98bd115',\n",
       " '@type': 'dcat:Catalog',\n",
       " 'dcat:dataset': [{'@id': 'asset-de-raul',\n",
       "   '@type': 'dcat:Dataset',\n",
       "   'odrl:hasPolicy': {'@id': 'Mw==:YXNzZXQtZGUtcmF1bA==:YzFkYmM5YTctMjVlNy00OGE1LWFhNjctODE1MDM3NWNmYThj',\n",
       "    '@type': 'odrl:Set',\n",
       "    'odrl:permission': [],\n",
       "    'odrl:prohibition': [],\n",
       "    'odrl:obligation': [],\n",
       "    'odrl:target': 'asset-de-raul'},\n",
       "   'dcat:distribution': [{'@type': 'dcat:Distribution',\n",
       "     'dct:format': {'@id': 'HttpData'},\n",
       "     'dcat:accessService': 'f6c9339a-af2e-499c-9b7a-6a94a518cb92'},\n",
       "    {'@type': 'dcat:Distribution',\n",
       "     'dct:format': {'@id': 'HttpData'},\n",
       "     'dcat:accessService': 'f6c9339a-af2e-499c-9b7a-6a94a518cb92'},\n",
       "    {'@type': 'dcat:Distribution',\n",
       "     'dct:format': {'@id': 'HttpData'},\n",
       "     'dcat:accessService': 'f6c9339a-af2e-499c-9b7a-6a94a518cb92'},\n",
       "    {'@type': 'dcat:Distribution',\n",
       "     'dct:format': {'@id': 'HttpData'},\n",
       "     'dcat:accessService': 'f6c9339a-af2e-499c-9b7a-6a94a518cb92'},\n",
       "    {'@type': 'dcat:Distribution',\n",
       "     'dct:format': {'@id': 'HttpData'},\n",
       "     'dcat:accessService': 'f6c9339a-af2e-499c-9b7a-6a94a518cb92'},\n",
       "    {'@type': 'dcat:Distribution',\n",
       "     'dct:format': {'@id': 'HttpData'},\n",
       "     'dcat:accessService': 'f6c9339a-af2e-499c-9b7a-6a94a518cb92'},\n",
       "    {'@type': 'dcat:Distribution',\n",
       "     'dct:format': {'@id': 'HttpData'},\n",
       "     'dcat:accessService': 'f6c9339a-af2e-499c-9b7a-6a94a518cb92'},\n",
       "    {'@type': 'dcat:Distribution',\n",
       "     'dct:format': {'@id': 'HttpData'},\n",
       "     'dcat:accessService': 'f6c9339a-af2e-499c-9b7a-6a94a518cb92'},\n",
       "    {'@type': 'dcat:Distribution',\n",
       "     'dct:format': {'@id': 'HttpData'},\n",
       "     'dcat:accessService': 'f6c9339a-af2e-499c-9b7a-6a94a518cb92'},\n",
       "    {'@type': 'dcat:Distribution',\n",
       "     'dct:format': {'@id': 'HttpData'},\n",
       "     'dcat:accessService': 'f6c9339a-af2e-499c-9b7a-6a94a518cb92'},\n",
       "    {'@type': 'dcat:Distribution',\n",
       "     'dct:format': {'@id': 'HttpData'},\n",
       "     'dcat:accessService': 'f6c9339a-af2e-499c-9b7a-6a94a518cb92'},\n",
       "    {'@type': 'dcat:Distribution',\n",
       "     'dct:format': {'@id': 'HttpData'},\n",
       "     'dcat:accessService': 'f6c9339a-af2e-499c-9b7a-6a94a518cb92'},\n",
       "    {'@type': 'dcat:Distribution',\n",
       "     'dct:format': {'@id': 'HttpData'},\n",
       "     'dcat:accessService': 'f6c9339a-af2e-499c-9b7a-6a94a518cb92'},\n",
       "    {'@type': 'dcat:Distribution',\n",
       "     'dct:format': {'@id': 'HttpData'},\n",
       "     'dcat:accessService': 'f6c9339a-af2e-499c-9b7a-6a94a518cb92'},\n",
       "    {'@type': 'dcat:Distribution',\n",
       "     'dct:format': {'@id': 'HttpData'},\n",
       "     'dcat:accessService': 'f6c9339a-af2e-499c-9b7a-6a94a518cb92'},\n",
       "    {'@type': 'dcat:Distribution',\n",
       "     'dct:format': {'@id': 'HttpData'},\n",
       "     'dcat:accessService': 'f6c9339a-af2e-499c-9b7a-6a94a518cb92'},\n",
       "    {'@type': 'dcat:Distribution',\n",
       "     'dct:format': {'@id': 'HttpData'},\n",
       "     'dcat:accessService': 'f6c9339a-af2e-499c-9b7a-6a94a518cb92'},\n",
       "    {'@type': 'dcat:Distribution',\n",
       "     'dct:format': {'@id': 'HttpData'},\n",
       "     'dcat:accessService': 'f6c9339a-af2e-499c-9b7a-6a94a518cb92'},\n",
       "    {'@type': 'dcat:Distribution',\n",
       "     'dct:format': {'@id': 'HttpData'},\n",
       "     'dcat:accessService': 'f6c9339a-af2e-499c-9b7a-6a94a518cb92'},\n",
       "    {'@type': 'dcat:Distribution',\n",
       "     'dct:format': {'@id': 'HttpData'},\n",
       "     'dcat:accessService': 'f6c9339a-af2e-499c-9b7a-6a94a518cb92'},\n",
       "    {'@type': 'dcat:Distribution',\n",
       "     'dct:format': {'@id': 'HttpData'},\n",
       "     'dcat:accessService': 'f6c9339a-af2e-499c-9b7a-6a94a518cb92'},\n",
       "    {'@type': 'dcat:Distribution',\n",
       "     'dct:format': {'@id': 'HttpData'},\n",
       "     'dcat:accessService': 'f6c9339a-af2e-499c-9b7a-6a94a518cb92'},\n",
       "    {'@type': 'dcat:Distribution',\n",
       "     'dct:format': {'@id': 'HttpProxy'},\n",
       "     'dcat:accessService': 'f6c9339a-af2e-499c-9b7a-6a94a518cb92'},\n",
       "    {'@type': 'dcat:Distribution',\n",
       "     'dct:format': {'@id': 'HttpData'},\n",
       "     'dcat:accessService': 'f6c9339a-af2e-499c-9b7a-6a94a518cb92'}],\n",
       "   'edc:name': 'test of asset, just to have another one on board',\n",
       "   'edc:id': 'asset-de-raul',\n",
       "   'edc:contenttype': 'application/json'},\n",
       "  {'@id': 'asset-test-1',\n",
       "   '@type': 'dcat:Dataset',\n",
       "   'odrl:hasPolicy': {'@id': 'Mw==:YXNzZXQtdGVzdC0x:ZTk4NzE4YjItOGZhNy00YTA1LTkyZTItYWQ2ODdlN2E3ZjQ5',\n",
       "    '@type': 'odrl:Set',\n",
       "    'odrl:permission': [],\n",
       "    'odrl:prohibition': [],\n",
       "    'odrl:obligation': [],\n",
       "    'odrl:target': 'asset-test-1'},\n",
       "   'dcat:distribution': [{'@type': 'dcat:Distribution',\n",
       "     'dct:format': {'@id': 'HttpData'},\n",
       "     'dcat:accessService': 'f6c9339a-af2e-499c-9b7a-6a94a518cb92'},\n",
       "    {'@type': 'dcat:Distribution',\n",
       "     'dct:format': {'@id': 'HttpData'},\n",
       "     'dcat:accessService': 'f6c9339a-af2e-499c-9b7a-6a94a518cb92'},\n",
       "    {'@type': 'dcat:Distribution',\n",
       "     'dct:format': {'@id': 'HttpData'},\n",
       "     'dcat:accessService': 'f6c9339a-af2e-499c-9b7a-6a94a518cb92'},\n",
       "    {'@type': 'dcat:Distribution',\n",
       "     'dct:format': {'@id': 'HttpData'},\n",
       "     'dcat:accessService': 'f6c9339a-af2e-499c-9b7a-6a94a518cb92'},\n",
       "    {'@type': 'dcat:Distribution',\n",
       "     'dct:format': {'@id': 'HttpData'},\n",
       "     'dcat:accessService': 'f6c9339a-af2e-499c-9b7a-6a94a518cb92'},\n",
       "    {'@type': 'dcat:Distribution',\n",
       "     'dct:format': {'@id': 'HttpData'},\n",
       "     'dcat:accessService': 'f6c9339a-af2e-499c-9b7a-6a94a518cb92'},\n",
       "    {'@type': 'dcat:Distribution',\n",
       "     'dct:format': {'@id': 'HttpData'},\n",
       "     'dcat:accessService': 'f6c9339a-af2e-499c-9b7a-6a94a518cb92'},\n",
       "    {'@type': 'dcat:Distribution',\n",
       "     'dct:format': {'@id': 'HttpData'},\n",
       "     'dcat:accessService': 'f6c9339a-af2e-499c-9b7a-6a94a518cb92'},\n",
       "    {'@type': 'dcat:Distribution',\n",
       "     'dct:format': {'@id': 'HttpData'},\n",
       "     'dcat:accessService': 'f6c9339a-af2e-499c-9b7a-6a94a518cb92'},\n",
       "    {'@type': 'dcat:Distribution',\n",
       "     'dct:format': {'@id': 'HttpData'},\n",
       "     'dcat:accessService': 'f6c9339a-af2e-499c-9b7a-6a94a518cb92'},\n",
       "    {'@type': 'dcat:Distribution',\n",
       "     'dct:format': {'@id': 'HttpData'},\n",
       "     'dcat:accessService': 'f6c9339a-af2e-499c-9b7a-6a94a518cb92'},\n",
       "    {'@type': 'dcat:Distribution',\n",
       "     'dct:format': {'@id': 'HttpData'},\n",
       "     'dcat:accessService': 'f6c9339a-af2e-499c-9b7a-6a94a518cb92'},\n",
       "    {'@type': 'dcat:Distribution',\n",
       "     'dct:format': {'@id': 'HttpData'},\n",
       "     'dcat:accessService': 'f6c9339a-af2e-499c-9b7a-6a94a518cb92'},\n",
       "    {'@type': 'dcat:Distribution',\n",
       "     'dct:format': {'@id': 'HttpData'},\n",
       "     'dcat:accessService': 'f6c9339a-af2e-499c-9b7a-6a94a518cb92'},\n",
       "    {'@type': 'dcat:Distribution',\n",
       "     'dct:format': {'@id': 'HttpData'},\n",
       "     'dcat:accessService': 'f6c9339a-af2e-499c-9b7a-6a94a518cb92'},\n",
       "    {'@type': 'dcat:Distribution',\n",
       "     'dct:format': {'@id': 'HttpData'},\n",
       "     'dcat:accessService': 'f6c9339a-af2e-499c-9b7a-6a94a518cb92'},\n",
       "    {'@type': 'dcat:Distribution',\n",
       "     'dct:format': {'@id': 'HttpData'},\n",
       "     'dcat:accessService': 'f6c9339a-af2e-499c-9b7a-6a94a518cb92'},\n",
       "    {'@type': 'dcat:Distribution',\n",
       "     'dct:format': {'@id': 'HttpData'},\n",
       "     'dcat:accessService': 'f6c9339a-af2e-499c-9b7a-6a94a518cb92'},\n",
       "    {'@type': 'dcat:Distribution',\n",
       "     'dct:format': {'@id': 'HttpData'},\n",
       "     'dcat:accessService': 'f6c9339a-af2e-499c-9b7a-6a94a518cb92'},\n",
       "    {'@type': 'dcat:Distribution',\n",
       "     'dct:format': {'@id': 'HttpData'},\n",
       "     'dcat:accessService': 'f6c9339a-af2e-499c-9b7a-6a94a518cb92'},\n",
       "    {'@type': 'dcat:Distribution',\n",
       "     'dct:format': {'@id': 'HttpData'},\n",
       "     'dcat:accessService': 'f6c9339a-af2e-499c-9b7a-6a94a518cb92'},\n",
       "    {'@type': 'dcat:Distribution',\n",
       "     'dct:format': {'@id': 'HttpData'},\n",
       "     'dcat:accessService': 'f6c9339a-af2e-499c-9b7a-6a94a518cb92'},\n",
       "    {'@type': 'dcat:Distribution',\n",
       "     'dct:format': {'@id': 'HttpProxy'},\n",
       "     'dcat:accessService': 'f6c9339a-af2e-499c-9b7a-6a94a518cb92'},\n",
       "    {'@type': 'dcat:Distribution',\n",
       "     'dct:format': {'@id': 'HttpData'},\n",
       "     'dcat:accessService': 'f6c9339a-af2e-499c-9b7a-6a94a518cb92'}],\n",
       "   'edc:version': '',\n",
       "   'edc:name': 'asset-test-1',\n",
       "   'edc:id': 'asset-test-1',\n",
       "   'edc:contenttype': 'application/json'},\n",
       "  {'@id': 'edc-workshop-demo',\n",
       "   '@type': 'dcat:Dataset',\n",
       "   'odrl:hasPolicy': [{'@id': 'Mw==:ZWRjLXdvcmtzaG9wLWRlbW8=:N2VhNjM1NTgtYmQxMi00MzM2LTkwOTYtYzFkMzQ4MGRmNjVm',\n",
       "     '@type': 'odrl:Set',\n",
       "     'odrl:permission': [],\n",
       "     'odrl:prohibition': [],\n",
       "     'odrl:obligation': [],\n",
       "     'odrl:target': 'edc-workshop-demo'},\n",
       "    {'@id': 'ZGVtby1jb250cmFjdC1kZWZpbml0aW9u:ZWRjLXdvcmtzaG9wLWRlbW8=:OGQxN2RiOGMtODVhZC00YTMzLWJhZjQtNWQ2OTlkMzNiYmUy',\n",
       "     '@type': 'odrl:Set',\n",
       "     'odrl:permission': [],\n",
       "     'odrl:prohibition': [],\n",
       "     'odrl:obligation': [],\n",
       "     'odrl:target': 'edc-workshop-demo'}],\n",
       "   'dcat:distribution': [{'@type': 'dcat:Distribution',\n",
       "     'dct:format': {'@id': 'HttpData'},\n",
       "     'dcat:accessService': 'f6c9339a-af2e-499c-9b7a-6a94a518cb92'},\n",
       "    {'@type': 'dcat:Distribution',\n",
       "     'dct:format': {'@id': 'HttpData'},\n",
       "     'dcat:accessService': 'f6c9339a-af2e-499c-9b7a-6a94a518cb92'},\n",
       "    {'@type': 'dcat:Distribution',\n",
       "     'dct:format': {'@id': 'HttpData'},\n",
       "     'dcat:accessService': 'f6c9339a-af2e-499c-9b7a-6a94a518cb92'},\n",
       "    {'@type': 'dcat:Distribution',\n",
       "     'dct:format': {'@id': 'HttpData'},\n",
       "     'dcat:accessService': 'f6c9339a-af2e-499c-9b7a-6a94a518cb92'},\n",
       "    {'@type': 'dcat:Distribution',\n",
       "     'dct:format': {'@id': 'HttpData'},\n",
       "     'dcat:accessService': 'f6c9339a-af2e-499c-9b7a-6a94a518cb92'},\n",
       "    {'@type': 'dcat:Distribution',\n",
       "     'dct:format': {'@id': 'HttpData'},\n",
       "     'dcat:accessService': 'f6c9339a-af2e-499c-9b7a-6a94a518cb92'},\n",
       "    {'@type': 'dcat:Distribution',\n",
       "     'dct:format': {'@id': 'HttpData'},\n",
       "     'dcat:accessService': 'f6c9339a-af2e-499c-9b7a-6a94a518cb92'},\n",
       "    {'@type': 'dcat:Distribution',\n",
       "     'dct:format': {'@id': 'HttpData'},\n",
       "     'dcat:accessService': 'f6c9339a-af2e-499c-9b7a-6a94a518cb92'},\n",
       "    {'@type': 'dcat:Distribution',\n",
       "     'dct:format': {'@id': 'HttpData'},\n",
       "     'dcat:accessService': 'f6c9339a-af2e-499c-9b7a-6a94a518cb92'},\n",
       "    {'@type': 'dcat:Distribution',\n",
       "     'dct:format': {'@id': 'HttpData'},\n",
       "     'dcat:accessService': 'f6c9339a-af2e-499c-9b7a-6a94a518cb92'},\n",
       "    {'@type': 'dcat:Distribution',\n",
       "     'dct:format': {'@id': 'HttpData'},\n",
       "     'dcat:accessService': 'f6c9339a-af2e-499c-9b7a-6a94a518cb92'},\n",
       "    {'@type': 'dcat:Distribution',\n",
       "     'dct:format': {'@id': 'HttpData'},\n",
       "     'dcat:accessService': 'f6c9339a-af2e-499c-9b7a-6a94a518cb92'},\n",
       "    {'@type': 'dcat:Distribution',\n",
       "     'dct:format': {'@id': 'HttpData'},\n",
       "     'dcat:accessService': 'f6c9339a-af2e-499c-9b7a-6a94a518cb92'},\n",
       "    {'@type': 'dcat:Distribution',\n",
       "     'dct:format': {'@id': 'HttpData'},\n",
       "     'dcat:accessService': 'f6c9339a-af2e-499c-9b7a-6a94a518cb92'},\n",
       "    {'@type': 'dcat:Distribution',\n",
       "     'dct:format': {'@id': 'HttpData'},\n",
       "     'dcat:accessService': 'f6c9339a-af2e-499c-9b7a-6a94a518cb92'},\n",
       "    {'@type': 'dcat:Distribution',\n",
       "     'dct:format': {'@id': 'HttpData'},\n",
       "     'dcat:accessService': 'f6c9339a-af2e-499c-9b7a-6a94a518cb92'},\n",
       "    {'@type': 'dcat:Distribution',\n",
       "     'dct:format': {'@id': 'HttpData'},\n",
       "     'dcat:accessService': 'f6c9339a-af2e-499c-9b7a-6a94a518cb92'},\n",
       "    {'@type': 'dcat:Distribution',\n",
       "     'dct:format': {'@id': 'HttpData'},\n",
       "     'dcat:accessService': 'f6c9339a-af2e-499c-9b7a-6a94a518cb92'},\n",
       "    {'@type': 'dcat:Distribution',\n",
       "     'dct:format': {'@id': 'HttpData'},\n",
       "     'dcat:accessService': 'f6c9339a-af2e-499c-9b7a-6a94a518cb92'},\n",
       "    {'@type': 'dcat:Distribution',\n",
       "     'dct:format': {'@id': 'HttpData'},\n",
       "     'dcat:accessService': 'f6c9339a-af2e-499c-9b7a-6a94a518cb92'},\n",
       "    {'@type': 'dcat:Distribution',\n",
       "     'dct:format': {'@id': 'HttpData'},\n",
       "     'dcat:accessService': 'f6c9339a-af2e-499c-9b7a-6a94a518cb92'},\n",
       "    {'@type': 'dcat:Distribution',\n",
       "     'dct:format': {'@id': 'HttpData'},\n",
       "     'dcat:accessService': 'f6c9339a-af2e-499c-9b7a-6a94a518cb92'},\n",
       "    {'@type': 'dcat:Distribution',\n",
       "     'dct:format': {'@id': 'HttpProxy'},\n",
       "     'dcat:accessService': 'f6c9339a-af2e-499c-9b7a-6a94a518cb92'},\n",
       "    {'@type': 'dcat:Distribution',\n",
       "     'dct:format': {'@id': 'HttpData'},\n",
       "     'dcat:accessService': 'f6c9339a-af2e-499c-9b7a-6a94a518cb92'}],\n",
       "   'edc:version': '',\n",
       "   'edc:name': 'edc-workshop-demo',\n",
       "   'edc:id': 'edc-workshop-demo',\n",
       "   'edc:contenttype': 'application/json'},\n",
       "  {'@id': 'asset-workshop-demo-by-api',\n",
       "   '@type': 'dcat:Dataset',\n",
       "   'odrl:hasPolicy': {'@id': 'Mw==:YXNzZXQtd29ya3Nob3AtZGVtby1ieS1hcGk=:OWUxODdhNTAtMjE1Mi00MTM4LThiNWMtZWE0NzRmZWY4NjI1',\n",
       "    '@type': 'odrl:Set',\n",
       "    'odrl:permission': [],\n",
       "    'odrl:prohibition': [],\n",
       "    'odrl:obligation': [],\n",
       "    'odrl:target': 'asset-workshop-demo-by-api'},\n",
       "   'dcat:distribution': [{'@type': 'dcat:Distribution',\n",
       "     'dct:format': {'@id': 'HttpData'},\n",
       "     'dcat:accessService': 'f6c9339a-af2e-499c-9b7a-6a94a518cb92'},\n",
       "    {'@type': 'dcat:Distribution',\n",
       "     'dct:format': {'@id': 'HttpData'},\n",
       "     'dcat:accessService': 'f6c9339a-af2e-499c-9b7a-6a94a518cb92'},\n",
       "    {'@type': 'dcat:Distribution',\n",
       "     'dct:format': {'@id': 'HttpData'},\n",
       "     'dcat:accessService': 'f6c9339a-af2e-499c-9b7a-6a94a518cb92'},\n",
       "    {'@type': 'dcat:Distribution',\n",
       "     'dct:format': {'@id': 'HttpData'},\n",
       "     'dcat:accessService': 'f6c9339a-af2e-499c-9b7a-6a94a518cb92'},\n",
       "    {'@type': 'dcat:Distribution',\n",
       "     'dct:format': {'@id': 'HttpData'},\n",
       "     'dcat:accessService': 'f6c9339a-af2e-499c-9b7a-6a94a518cb92'},\n",
       "    {'@type': 'dcat:Distribution',\n",
       "     'dct:format': {'@id': 'HttpData'},\n",
       "     'dcat:accessService': 'f6c9339a-af2e-499c-9b7a-6a94a518cb92'},\n",
       "    {'@type': 'dcat:Distribution',\n",
       "     'dct:format': {'@id': 'HttpData'},\n",
       "     'dcat:accessService': 'f6c9339a-af2e-499c-9b7a-6a94a518cb92'},\n",
       "    {'@type': 'dcat:Distribution',\n",
       "     'dct:format': {'@id': 'HttpData'},\n",
       "     'dcat:accessService': 'f6c9339a-af2e-499c-9b7a-6a94a518cb92'},\n",
       "    {'@type': 'dcat:Distribution',\n",
       "     'dct:format': {'@id': 'HttpData'},\n",
       "     'dcat:accessService': 'f6c9339a-af2e-499c-9b7a-6a94a518cb92'},\n",
       "    {'@type': 'dcat:Distribution',\n",
       "     'dct:format': {'@id': 'HttpData'},\n",
       "     'dcat:accessService': 'f6c9339a-af2e-499c-9b7a-6a94a518cb92'},\n",
       "    {'@type': 'dcat:Distribution',\n",
       "     'dct:format': {'@id': 'HttpData'},\n",
       "     'dcat:accessService': 'f6c9339a-af2e-499c-9b7a-6a94a518cb92'},\n",
       "    {'@type': 'dcat:Distribution',\n",
       "     'dct:format': {'@id': 'HttpData'},\n",
       "     'dcat:accessService': 'f6c9339a-af2e-499c-9b7a-6a94a518cb92'},\n",
       "    {'@type': 'dcat:Distribution',\n",
       "     'dct:format': {'@id': 'HttpData'},\n",
       "     'dcat:accessService': 'f6c9339a-af2e-499c-9b7a-6a94a518cb92'},\n",
       "    {'@type': 'dcat:Distribution',\n",
       "     'dct:format': {'@id': 'HttpData'},\n",
       "     'dcat:accessService': 'f6c9339a-af2e-499c-9b7a-6a94a518cb92'},\n",
       "    {'@type': 'dcat:Distribution',\n",
       "     'dct:format': {'@id': 'HttpData'},\n",
       "     'dcat:accessService': 'f6c9339a-af2e-499c-9b7a-6a94a518cb92'},\n",
       "    {'@type': 'dcat:Distribution',\n",
       "     'dct:format': {'@id': 'HttpData'},\n",
       "     'dcat:accessService': 'f6c9339a-af2e-499c-9b7a-6a94a518cb92'},\n",
       "    {'@type': 'dcat:Distribution',\n",
       "     'dct:format': {'@id': 'HttpData'},\n",
       "     'dcat:accessService': 'f6c9339a-af2e-499c-9b7a-6a94a518cb92'},\n",
       "    {'@type': 'dcat:Distribution',\n",
       "     'dct:format': {'@id': 'HttpData'},\n",
       "     'dcat:accessService': 'f6c9339a-af2e-499c-9b7a-6a94a518cb92'},\n",
       "    {'@type': 'dcat:Distribution',\n",
       "     'dct:format': {'@id': 'HttpData'},\n",
       "     'dcat:accessService': 'f6c9339a-af2e-499c-9b7a-6a94a518cb92'},\n",
       "    {'@type': 'dcat:Distribution',\n",
       "     'dct:format': {'@id': 'HttpData'},\n",
       "     'dcat:accessService': 'f6c9339a-af2e-499c-9b7a-6a94a518cb92'},\n",
       "    {'@type': 'dcat:Distribution',\n",
       "     'dct:format': {'@id': 'HttpData'},\n",
       "     'dcat:accessService': 'f6c9339a-af2e-499c-9b7a-6a94a518cb92'},\n",
       "    {'@type': 'dcat:Distribution',\n",
       "     'dct:format': {'@id': 'HttpData'},\n",
       "     'dcat:accessService': 'f6c9339a-af2e-499c-9b7a-6a94a518cb92'},\n",
       "    {'@type': 'dcat:Distribution',\n",
       "     'dct:format': {'@id': 'HttpProxy'},\n",
       "     'dcat:accessService': 'f6c9339a-af2e-499c-9b7a-6a94a518cb92'},\n",
       "    {'@type': 'dcat:Distribution',\n",
       "     'dct:format': {'@id': 'HttpData'},\n",
       "     'dcat:accessService': 'f6c9339a-af2e-499c-9b7a-6a94a518cb92'}],\n",
       "   'edc:name': 'test of asset, just to have another one on board',\n",
       "   'edc:id': 'asset-workshop-demo-by-api',\n",
       "   'edc:contenttype': 'application/json'}],\n",
       " 'dcat:service': {'@id': 'f6c9339a-af2e-499c-9b7a-6a94a518cb92',\n",
       "  '@type': 'dcat:DataService',\n",
       "  'dct:terms': 'connector',\n",
       "  'dct:endpointUrl': 'https://provider-edc-connector.apps.paas-dev.psnc.pl/protocol'},\n",
       " 'edc:participantId': 'psnc',\n",
       " '@context': {'dct': 'https://purl.org/dc/terms/',\n",
       "  'edc': 'https://w3id.org/edc/v0.0.1/ns/',\n",
       "  'dcat': 'https://www.w3.org/ns/dcat/',\n",
       "  'odrl': 'http://www.w3.org/ns/odrl/2/',\n",
       "  'dspace': 'https://w3id.org/dspace/v0.8/'}}"
      ]
     },
     "execution_count": 22,
     "metadata": {},
     "output_type": "execute_result"
    }
   ],
   "source": [
    "## a quick lookup\n",
    "fetch_catalog_on_consumer_side.json()"
   ]
  },
  {
   "cell_type": "code",
   "execution_count": 23,
   "metadata": {},
   "outputs": [
    {
     "data": {
      "text/plain": [
       "200"
      ]
     },
     "execution_count": 23,
     "metadata": {},
     "output_type": "execute_result"
    }
   ],
   "source": [
    "dcat_dataset = fetch_catalog_on_consumer_side.json()[\"dcat:dataset\"]\n",
    "\n",
    "if isinstance(dcat_dataset, list):\n",
    "    offer_id = dcat_dataset[0][\"odrl:hasPolicy\"][\"@id\"]\n",
    "else:\n",
    "    offer_id = dcat_dataset[\"odrl:hasPolicy\"][\"@id\"]\n",
    "\n",
    "negociate_a_contract = requests.post(\n",
    "            headers=default_headers,\n",
    "            data=json.dumps({\n",
    "                \"@context\": {\n",
    "                    \"edc\": \"https://w3id.org/edc/v0.0.1/ns/\",\n",
    "                    \"odrl\": \"http://www.w3.org/ns/odrl/2/\"\n",
    "                },\n",
    "                \"@type\": \"https://w3id.org/edc/v0.0.1/ns/ContractRequest\",\n",
    "                \"connectorId\": \"provider\",\n",
    "                \"connectorAddress\": f\"{provider_protocol_internal}\",\n",
    "                \"consumerId\": \"consumer\",\n",
    "                \"providerId\": \"provider\",\n",
    "                \"protocol\": \"dataspace-protocol-http\",\n",
    "                \"offer\": {\n",
    "                    \"offerId\": f\"{offer_id}\",\n",
    "                    \"assetId\": \"assetId\",\n",
    "                    \"policy\": {\n",
    "                        \"@id\": f\"{offer_id}\",\n",
    "                        \"@type\": \"Set\",\n",
    "                        \"odrl:permission\": [],\n",
    "                        \"odrl:prohibition\": [],\n",
    "                        \"odrl:obligation\": [],\n",
    "                        \"odrl:target\": \"assetId\"\n",
    "                    }\n",
    "                }\n",
    "            }),\n",
    "            url=f\"{CONSUMER_MANAGEMENT}/v2/contractnegotiations\"\n",
    "        )\n",
    "negociate_a_contract.status_code"
   ]
  },
  {
   "cell_type": "code",
   "execution_count": 24,
   "metadata": {},
   "outputs": [
    {
     "data": {
      "text/plain": [
       "{'@type': 'edc:IdResponse',\n",
       " '@id': 'eba846c5-f0b2-4d17-97b3-8adfdb86690e',\n",
       " 'edc:createdAt': 1706881418137,\n",
       " '@context': {'dct': 'https://purl.org/dc/terms/',\n",
       "  'edc': 'https://w3id.org/edc/v0.0.1/ns/',\n",
       "  'dcat': 'https://www.w3.org/ns/dcat/',\n",
       "  'odrl': 'http://www.w3.org/ns/odrl/2/',\n",
       "  'dspace': 'https://w3id.org/dspace/v0.8/'}}"
      ]
     },
     "execution_count": 24,
     "metadata": {},
     "output_type": "execute_result"
    }
   ],
   "source": [
    "negociate_a_contract.json()"
   ]
  },
  {
   "cell_type": "code",
   "execution_count": 25,
   "metadata": {},
   "outputs": [
    {
     "data": {
      "text/plain": [
       "'eba846c5-f0b2-4d17-97b3-8adfdb86690e'"
      ]
     },
     "execution_count": 25,
     "metadata": {},
     "output_type": "execute_result"
    }
   ],
   "source": [
    "contract_negotiation_id = negociate_a_contract.json()[\"@id\"]\n",
    "\n",
    "def wait_for_negotiation_to_reach_finalized_state():\n",
    "    \"\"\"\n",
    "    In some cases, contract negotiation may take some time to reach \"finalized\" state.\n",
    "    This function waits for agreement to reach \"FINALIZED\" state (without time limit though).\n",
    "    It doesn't return anything because it's job is only to wait until the connector is ready\n",
    "    for further work\n",
    "    \"\"\"\n",
    "\n",
    "    from time import sleep\n",
    "    while True:\n",
    "        getting_contract_agreement_id = requests.get(\n",
    "            headers={\"Content-Type\": \"application/json\"},\n",
    "            url=f\"{CONSUMER_MANAGEMENT}/v2/contractnegotiations/{contract_negotiation_id}\"\n",
    "        )\n",
    "        print(getting_contract_agreement_id.status_code)\n",
    "        try:\n",
    "            JJ = getting_contract_agreement_id.json()\n",
    "            if \"edc:state\" in JJ and JJ[\"edc:state\"] == \"FINALIZED\": return\n",
    "        except json.JSONDecodeError:\n",
    "            pass\n",
    "        sleep(1.0)\n",
    "\n",
    "contract_negotiation_id"
   ]
  },
  {
   "cell_type": "code",
   "execution_count": 26,
   "metadata": {},
   "outputs": [
    {
     "data": {
      "text/plain": [
       "'VERIFIED'"
      ]
     },
     "execution_count": 26,
     "metadata": {},
     "output_type": "execute_result"
    }
   ],
   "source": [
    "getting_contract_agreement_id = requests.get(\n",
    "        headers=default_headers,\n",
    "        url=f\"{CONSUMER_MANAGEMENT}/v2/contractnegotiations/{contract_negotiation_id}\"\n",
    "    )\n",
    "getting_contract_agreement_id.json()[\"edc:state\"]"
   ]
  },
  {
   "cell_type": "code",
   "execution_count": 31,
   "metadata": {},
   "outputs": [],
   "source": [
    "def request_provider_push_transfer(contract_agreement_id: str) -> requests.Response:\n",
    "    global provider_internal\n",
    "    return requests.post(\n",
    "            headers={'Content-Type': 'application/json'},\n",
    "            data=json.dumps({\n",
    "                \"@context\": {\n",
    "                \"edc\": \"https://w3id.org/edc/v0.0.1/ns/\"\n",
    "                },\n",
    "                \"@type\": \"TransferRequestDto\",\n",
    "                \"connectorId\": \"provider\",\n",
    "                \"connectorAddress\": f\"{provider_protocol_internal}\",\n",
    "                \"contractId\": f\"{contract_agreement_id}\",\n",
    "                \"assetId\": \"assetId\",\n",
    "                \"managedResources\": False,\n",
    "                \"protocol\": \"dataspace-protocol-http\",\n",
    "                \"dataDestination\": { \n",
    "                    \"type\": \"HttpData\",\n",
    "                    \"baseUrl\": f\"http://consumer-backend:4000/api/consumer/store\"\n",
    "                }\n",
    "            }),\n",
    "            url=f\"{CONSUMER_MANAGEMENT}/v2/transferprocesses\"\n",
    "        )\n",
    "\n",
    "def request_consumer_pull_transfer(contract_agreement_id: str) -> requests.Response:\n",
    "    global provider_internal\n",
    "    return requests.post(\n",
    "            headers=default_headers,\n",
    "            data=json.dumps({\n",
    "                \"@context\": {\n",
    "                \"@vocab\": \"https://w3id.org/edc/v0.0.1/ns/\"\n",
    "                },\n",
    "                # \"@type\": \"TransferRequestDto\",\n",
    "                \"connectorId\": \"provider\",\n",
    "                \"connectorAddress\": f\"{provider_protocol_internal}\",\n",
    "                \"contractId\": f\"{contract_agreement_id}\",\n",
    "                \"assetId\": \"assetId\",\n",
    "                # \"managedResources\": False,\n",
    "                \"protocol\": \"dataspace-protocol-http\",\n",
    "                \"dataDestination\": { \n",
    "                    \"type\": \"HttpProxy\",\n",
    "                 }\n",
    "            }),\n",
    "            url=f\"{CONSUMER_MANAGEMENT}/v2/transferprocesses\"\n",
    "        )\n"
   ]
  },
  {
   "cell_type": "code",
   "execution_count": 32,
   "metadata": {},
   "outputs": [],
   "source": [
    "contract_agreement_id = getting_contract_agreement_id.json()[\"edc:contractAgreementId\"]\n",
    "\n",
    "# provider_push_transfer = provider_push_transfer(contract_agreement_id)\n",
    "consumer_pull_transfer = request_consumer_pull_transfer(contract_agreement_id)"
   ]
  },
  {
   "cell_type": "code",
   "execution_count": 33,
   "metadata": {},
   "outputs": [
    {
     "data": {
      "text/plain": [
       "'96643905-42cf-4954-bbe3-b910fcbdbabc'"
      ]
     },
     "execution_count": 33,
     "metadata": {},
     "output_type": "execute_result"
    }
   ],
   "source": [
    "consumer_pull_transfer.json()[\"@id\"]"
   ]
  },
  {
   "cell_type": "code",
   "execution_count": 38,
   "metadata": {},
   "outputs": [
    {
     "data": {
      "text/plain": [
       "{'@type': 'edc:TransferState',\n",
       " 'edc:state': 'STARTED',\n",
       " '@context': {'dct': 'https://purl.org/dc/terms/',\n",
       "  'edc': 'https://w3id.org/edc/v0.0.1/ns/',\n",
       "  'dcat': 'https://www.w3.org/ns/dcat/',\n",
       "  'odrl': 'http://www.w3.org/ns/odrl/2/',\n",
       "  'dspace': 'https://w3id.org/dspace/v0.8/'}}"
      ]
     },
     "execution_count": 38,
     "metadata": {},
     "output_type": "execute_result"
    }
   ],
   "source": [
    "pull_transfer_id = consumer_pull_transfer.json()[\"@id\"]\n",
    "\n",
    "\"\"\"\n",
    "Don't be supprised if transfer remains in the \"Started\" state.\n",
    "It may stay this way even when transfer is completed.\n",
    "\"\"\"\n",
    "\n",
    "requests.get(headers=default_headers, url=f\"{CONSUMER_MANAGEMENT}/v2/transferprocesses/{pull_transfer_id}/state\").json()"
   ]
  },
  {
   "cell_type": "code",
   "execution_count": 35,
   "metadata": {},
   "outputs": [
    {
     "data": {
      "text/plain": [
       "{'@type': 'edc:IdResponse',\n",
       " '@id': '96643905-42cf-4954-bbe3-b910fcbdbabc',\n",
       " 'edc:createdAt': 1706881918986,\n",
       " '@context': {'dct': 'https://purl.org/dc/terms/',\n",
       "  'edc': 'https://w3id.org/edc/v0.0.1/ns/',\n",
       "  'dcat': 'https://www.w3.org/ns/dcat/',\n",
       "  'odrl': 'http://www.w3.org/ns/odrl/2/',\n",
       "  'dspace': 'https://w3id.org/dspace/v0.8/'}}"
      ]
     },
     "execution_count": 35,
     "metadata": {},
     "output_type": "execute_result"
    }
   ],
   "source": [
    "consumer_pull_transfer.json()"
   ]
  },
  {
   "cell_type": "code",
   "execution_count": 36,
   "metadata": {},
   "outputs": [
    {
     "data": {
      "text/plain": [
       "{'@id': '96643905-42cf-4954-bbe3-b910fcbdbabc',\n",
       " '@type': 'edc:TransferProcess',\n",
       " 'edc:correlationId': '96643905-42cf-4954-bbe3-b910fcbdbabc',\n",
       " 'edc:state': 'STARTED',\n",
       " 'edc:stateTimestamp': 1706881919673,\n",
       " 'edc:type': 'CONSUMER',\n",
       " 'edc:assetId': 'assetId',\n",
       " 'edc:contractId': 'd13149c1-66dd-49cb-86a0-0d11b025626b',\n",
       " 'edc:callbackAddresses': [],\n",
       " 'edc:dataDestination': {'@type': 'edc:DataAddress', 'edc:type': 'HttpProxy'},\n",
       " 'edc:connectorId': 'provider',\n",
       " '@context': {'dct': 'https://purl.org/dc/terms/',\n",
       "  'edc': 'https://w3id.org/edc/v0.0.1/ns/',\n",
       "  'dcat': 'https://www.w3.org/ns/dcat/',\n",
       "  'odrl': 'http://www.w3.org/ns/odrl/2/',\n",
       "  'dspace': 'https://w3id.org/dspace/v0.8/'}}"
      ]
     },
     "execution_count": 36,
     "metadata": {},
     "output_type": "execute_result"
    }
   ],
   "source": [
    "transfer_process_id = consumer_pull_transfer.json()[\"@id\"]\n",
    "\n",
    "check_transfer_status = requests.get(f\"{CONSUMER_MANAGEMENT}/v2/transferprocesses/{transfer_process_id}\", headers=default_headers)\n",
    "\n",
    "check_transfer_status.json()"
   ]
  }
 ],
 "metadata": {
  "kernelspec": {
   "display_name": "Python 3",
   "language": "python",
   "name": "python3"
  },
  "language_info": {
   "codemirror_mode": {
    "name": "ipython",
    "version": 3
   },
   "file_extension": ".py",
   "mimetype": "text/x-python",
   "name": "python",
   "nbconvert_exporter": "python",
   "pygments_lexer": "ipython3",
   "version": "3.10.12"
  },
  "orig_nbformat": 4
 },
 "nbformat": 4,
 "nbformat_minor": 2
}
